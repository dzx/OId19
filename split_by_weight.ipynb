{
 "cells": [
  {
   "cell_type": "code",
   "execution_count": 1,
   "metadata": {},
   "outputs": [],
   "source": [
    "import pandas as pd"
   ]
  },
  {
   "cell_type": "code",
   "execution_count": 2,
   "metadata": {},
   "outputs": [],
   "source": [
    "df = pd.read_csv('train/challenge-2019-train-detection-bbox.csv')"
   ]
  },
  {
   "cell_type": "code",
   "execution_count": 3,
   "metadata": {},
   "outputs": [
    {
     "data": {
      "text/html": [
       "<div>\n",
       "<style scoped>\n",
       "    .dataframe tbody tr th:only-of-type {\n",
       "        vertical-align: middle;\n",
       "    }\n",
       "\n",
       "    .dataframe tbody tr th {\n",
       "        vertical-align: top;\n",
       "    }\n",
       "\n",
       "    .dataframe thead th {\n",
       "        text-align: right;\n",
       "    }\n",
       "</style>\n",
       "<table border=\"1\" class=\"dataframe\">\n",
       "  <thead>\n",
       "    <tr style=\"text-align: right;\">\n",
       "      <th></th>\n",
       "      <th>ImageID</th>\n",
       "      <th>Source</th>\n",
       "      <th>LabelName</th>\n",
       "      <th>Confidence</th>\n",
       "      <th>XMin</th>\n",
       "      <th>XMax</th>\n",
       "      <th>YMin</th>\n",
       "      <th>YMax</th>\n",
       "      <th>IsOccluded</th>\n",
       "      <th>IsTruncated</th>\n",
       "      <th>IsGroupOf</th>\n",
       "      <th>IsDepiction</th>\n",
       "      <th>IsInside</th>\n",
       "    </tr>\n",
       "  </thead>\n",
       "  <tbody>\n",
       "    <tr>\n",
       "      <th>0</th>\n",
       "      <td>8d6dec80235b6fea</td>\n",
       "      <td>xclick</td>\n",
       "      <td>/m/09j5n</td>\n",
       "      <td>1</td>\n",
       "      <td>0.760000</td>\n",
       "      <td>0.778125</td>\n",
       "      <td>0.645892</td>\n",
       "      <td>0.673277</td>\n",
       "      <td>0</td>\n",
       "      <td>0</td>\n",
       "      <td>0</td>\n",
       "      <td>0</td>\n",
       "      <td>0</td>\n",
       "    </tr>\n",
       "    <tr>\n",
       "      <th>1</th>\n",
       "      <td>8d6dec80235b6fea</td>\n",
       "      <td>xclick</td>\n",
       "      <td>/m/09j5n</td>\n",
       "      <td>1</td>\n",
       "      <td>0.817500</td>\n",
       "      <td>0.831875</td>\n",
       "      <td>0.628895</td>\n",
       "      <td>0.661945</td>\n",
       "      <td>0</td>\n",
       "      <td>0</td>\n",
       "      <td>0</td>\n",
       "      <td>0</td>\n",
       "      <td>0</td>\n",
       "    </tr>\n",
       "    <tr>\n",
       "      <th>2</th>\n",
       "      <td>8d6dec80235b6fea</td>\n",
       "      <td>xclick</td>\n",
       "      <td>/m/09j5n</td>\n",
       "      <td>1</td>\n",
       "      <td>0.843125</td>\n",
       "      <td>0.870000</td>\n",
       "      <td>0.619452</td>\n",
       "      <td>0.645892</td>\n",
       "      <td>0</td>\n",
       "      <td>0</td>\n",
       "      <td>0</td>\n",
       "      <td>0</td>\n",
       "      <td>0</td>\n",
       "    </tr>\n",
       "    <tr>\n",
       "      <th>3</th>\n",
       "      <td>8d6dec80235b6fea</td>\n",
       "      <td>xclick</td>\n",
       "      <td>/m/09j5n</td>\n",
       "      <td>1</td>\n",
       "      <td>0.867500</td>\n",
       "      <td>0.891875</td>\n",
       "      <td>0.597734</td>\n",
       "      <td>0.625118</td>\n",
       "      <td>0</td>\n",
       "      <td>0</td>\n",
       "      <td>0</td>\n",
       "      <td>0</td>\n",
       "      <td>0</td>\n",
       "    </tr>\n",
       "    <tr>\n",
       "      <th>4</th>\n",
       "      <td>8d6dec80235b6fea</td>\n",
       "      <td>xclick</td>\n",
       "      <td>/m/09j5n</td>\n",
       "      <td>1</td>\n",
       "      <td>0.895625</td>\n",
       "      <td>0.911250</td>\n",
       "      <td>0.625118</td>\n",
       "      <td>0.656280</td>\n",
       "      <td>0</td>\n",
       "      <td>0</td>\n",
       "      <td>0</td>\n",
       "      <td>0</td>\n",
       "      <td>0</td>\n",
       "    </tr>\n",
       "  </tbody>\n",
       "</table>\n",
       "</div>"
      ],
      "text/plain": [
       "            ImageID  Source LabelName  Confidence      XMin      XMax  \\\n",
       "0  8d6dec80235b6fea  xclick  /m/09j5n           1  0.760000  0.778125   \n",
       "1  8d6dec80235b6fea  xclick  /m/09j5n           1  0.817500  0.831875   \n",
       "2  8d6dec80235b6fea  xclick  /m/09j5n           1  0.843125  0.870000   \n",
       "3  8d6dec80235b6fea  xclick  /m/09j5n           1  0.867500  0.891875   \n",
       "4  8d6dec80235b6fea  xclick  /m/09j5n           1  0.895625  0.911250   \n",
       "\n",
       "       YMin      YMax  IsOccluded  IsTruncated  IsGroupOf  IsDepiction  \\\n",
       "0  0.645892  0.673277           0            0          0            0   \n",
       "1  0.628895  0.661945           0            0          0            0   \n",
       "2  0.619452  0.645892           0            0          0            0   \n",
       "3  0.597734  0.625118           0            0          0            0   \n",
       "4  0.625118  0.656280           0            0          0            0   \n",
       "\n",
       "   IsInside  \n",
       "0         0  \n",
       "1         0  \n",
       "2         0  \n",
       "3         0  \n",
       "4         0  "
      ]
     },
     "execution_count": 3,
     "metadata": {},
     "output_type": "execute_result"
    }
   ],
   "source": [
    "df.head()"
   ]
  },
  {
   "cell_type": "code",
   "execution_count": 4,
   "metadata": {},
   "outputs": [],
   "source": [
    "cnts = df.LabelName.value_counts()"
   ]
  },
  {
   "cell_type": "code",
   "execution_count": 5,
   "metadata": {},
   "outputs": [
    {
     "data": {
      "text/plain": [
       "/m/04yx4      1418594\n",
       "/m/07j7r      1051344\n",
       "/m/0dzct      1037710\n",
       "/m/01g317     1034721\n",
       "/m/03bt1vf     767337\n",
       "Name: LabelName, dtype: int64"
      ]
     },
     "execution_count": 5,
     "metadata": {},
     "output_type": "execute_result"
    }
   ],
   "source": [
    "cnts.head()"
   ]
  },
  {
   "cell_type": "code",
   "execution_count": 6,
   "metadata": {},
   "outputs": [
    {
     "data": {
      "text/plain": [
       "12195144"
      ]
     },
     "execution_count": 6,
     "metadata": {},
     "output_type": "execute_result"
    }
   ],
   "source": [
    "len(df)"
   ]
  },
  {
   "cell_type": "code",
   "execution_count": 7,
   "metadata": {},
   "outputs": [
    {
     "data": {
      "text/plain": [
       "count    5.000000e+02\n",
       "mean     2.439029e+04\n",
       "std      1.189059e+05\n",
       "min      1.400000e+01\n",
       "25%      5.985000e+02\n",
       "50%      1.652000e+03\n",
       "75%      5.553000e+03\n",
       "max      1.418594e+06\n",
       "Name: LabelName, dtype: float64"
      ]
     },
     "execution_count": 7,
     "metadata": {},
     "output_type": "execute_result"
    }
   ],
   "source": [
    "cnts.describe()"
   ]
  },
  {
   "cell_type": "code",
   "execution_count": 8,
   "metadata": {},
   "outputs": [
    {
     "data": {
      "text/plain": [
       "/m/04yx4      0.017193\n",
       "/m/07j7r      0.023199\n",
       "/m/0dzct      0.023504\n",
       "/m/01g317     0.023572\n",
       "/m/03bt1vf    0.031786\n",
       "Name: LabelName, dtype: float64"
      ]
     },
     "execution_count": 8,
     "metadata": {},
     "output_type": "execute_result"
    }
   ],
   "source": [
    "(cnts.mean()/cnts).head()"
   ]
  },
  {
   "cell_type": "code",
   "execution_count": 9,
   "metadata": {},
   "outputs": [
    {
     "data": {
      "text/plain": [
       "count     500.000000\n",
       "mean       39.208089\n",
       "std       107.514526\n",
       "min         0.017193\n",
       "25%         4.394739\n",
       "50%        14.764102\n",
       "75%        40.752446\n",
       "max      1742.163429\n",
       "Name: LabelName, dtype: float64"
      ]
     },
     "execution_count": 9,
     "metadata": {},
     "output_type": "execute_result"
    }
   ],
   "source": [
    "(cnts.mean()/cnts).describe()"
   ]
  },
  {
   "cell_type": "code",
   "execution_count": 10,
   "metadata": {},
   "outputs": [
    {
     "data": {
      "text/plain": [
       "/m/01bl7v    87555\n",
       "/m/04bcr3    85691\n",
       "/m/079cl     81261\n",
       "/m/01prls    81108\n",
       "/m/019jd     79113\n",
       "             ...  \n",
       "/m/04yqq2     1060\n",
       "/m/0n28_      1041\n",
       "/m/0_cp5      1038\n",
       "/m/084zz      1014\n",
       "/m/02d9qx     1003\n",
       "Name: LabelName, Length: 288, dtype: int64"
      ]
     },
     "execution_count": 10,
     "metadata": {},
     "output_type": "execute_result"
    }
   ],
   "source": [
    "cnts[(1000 <= cnts) & (cnts < 100000)]"
   ]
  },
  {
   "cell_type": "code",
   "execution_count": 11,
   "metadata": {},
   "outputs": [],
   "source": [
    "lows = cnts[cnts < 1000]\n",
    "mids = cnts[(cnts >= 1000) & (cnts < 100000)]\n",
    "highs = cnts[cnts >= 100000]"
   ]
  },
  {
   "cell_type": "code",
   "execution_count": 12,
   "metadata": {},
   "outputs": [
    {
     "data": {
      "text/plain": [
       "count    193.000000\n",
       "mean     488.202073\n",
       "std      252.072835\n",
       "min       14.000000\n",
       "25%      281.000000\n",
       "50%      453.000000\n",
       "75%      664.000000\n",
       "max      994.000000\n",
       "Name: LabelName, dtype: float64"
      ]
     },
     "execution_count": 12,
     "metadata": {},
     "output_type": "execute_result"
    }
   ],
   "source": [
    "lows.describe()"
   ]
  },
  {
   "cell_type": "code",
   "execution_count": 13,
   "metadata": {},
   "outputs": [
    {
     "data": {
      "text/plain": [
       "count      288.000000\n",
       "mean     10717.725694\n",
       "std      17472.158446\n",
       "min       1003.000000\n",
       "25%       1769.750000\n",
       "50%       3543.000000\n",
       "75%       9682.750000\n",
       "max      87555.000000\n",
       "Name: LabelName, dtype: float64"
      ]
     },
     "execution_count": 13,
     "metadata": {},
     "output_type": "execute_result"
    }
   ],
   "source": [
    "mids.describe()"
   ]
  },
  {
   "cell_type": "code",
   "execution_count": 14,
   "metadata": {},
   "outputs": [
    {
     "data": {
      "text/plain": [
       "count    1.900000e+01\n",
       "mean     4.744324e+05\n",
       "std      4.051900e+05\n",
       "min      1.108480e+05\n",
       "25%      1.878945e+05\n",
       "50%      2.480750e+05\n",
       "75%      7.559055e+05\n",
       "max      1.418594e+06\n",
       "Name: LabelName, dtype: float64"
      ]
     },
     "execution_count": 14,
     "metadata": {},
     "output_type": "execute_result"
    }
   ],
   "source": [
    "highs.describe()"
   ]
  },
  {
   "cell_type": "code",
   "execution_count": 15,
   "metadata": {},
   "outputs": [
    {
     "name": "stdout",
     "output_type": "stream",
     "text": [
      "94223 3086705 9014216\n"
     ]
    }
   ],
   "source": [
    "print(lows.sum(), mids.sum(), highs.sum())"
   ]
  },
  {
   "cell_type": "code",
   "execution_count": 16,
   "metadata": {},
   "outputs": [
    {
     "data": {
      "text/plain": [
       "/m/04yx4      0.334438\n",
       "/m/07j7r      0.451263\n",
       "/m/0dzct      0.457192\n",
       "/m/01g317     0.458512\n",
       "/m/03bt1vf    0.618284\n",
       "/m/09j5n      0.637272\n",
       "/m/0d4v4      0.942331\n",
       "/m/0c9ph5     1.373988\n",
       "/m/083wq      1.392772\n",
       "/m/0k4j       1.912456\n",
       "/m/03q69      2.026995\n",
       "/m/0dzf4      2.270207\n",
       "/m/04hgtk     2.352950\n",
       "/m/05r655     2.406393\n",
       "/m/0cgh4      2.655891\n",
       "/m/03jm5      3.484579\n",
       "/m/01mzpv     3.581082\n",
       "/m/0h9mv      3.869285\n",
       "/m/01xyhv     4.280027\n",
       "Name: LabelName, dtype: float64"
      ]
     },
     "execution_count": 16,
     "metadata": {},
     "output_type": "execute_result"
    }
   ],
   "source": [
    "highs.mean() / highs"
   ]
  },
  {
   "cell_type": "code",
   "execution_count": 17,
   "metadata": {},
   "outputs": [],
   "source": [
    "highs = highs.mean() / highs\n",
    "mids = mids.mean() / mids\n",
    "lows = lows.mean() / lows"
   ]
  },
  {
   "cell_type": "code",
   "execution_count": 33,
   "metadata": {},
   "outputs": [],
   "source": [
    "highs.name = 'Weight'\n",
    "mids.name = 'Weight'\n",
    "lows.name = 'Weight'"
   ]
  },
  {
   "cell_type": "code",
   "execution_count": 19,
   "metadata": {},
   "outputs": [
    {
     "data": {
      "text/plain": [
       "'LabelName'"
      ]
     },
     "execution_count": 19,
     "metadata": {},
     "output_type": "execute_result"
    }
   ],
   "source": [
    "mids.name"
   ]
  },
  {
   "cell_type": "code",
   "execution_count": 34,
   "metadata": {},
   "outputs": [],
   "source": [
    "df_h = df.join(highs, on='LabelName', how='inner')"
   ]
  },
  {
   "cell_type": "code",
   "execution_count": 35,
   "metadata": {},
   "outputs": [
    {
     "data": {
      "text/html": [
       "<div>\n",
       "<style scoped>\n",
       "    .dataframe tbody tr th:only-of-type {\n",
       "        vertical-align: middle;\n",
       "    }\n",
       "\n",
       "    .dataframe tbody tr th {\n",
       "        vertical-align: top;\n",
       "    }\n",
       "\n",
       "    .dataframe thead th {\n",
       "        text-align: right;\n",
       "    }\n",
       "</style>\n",
       "<table border=\"1\" class=\"dataframe\">\n",
       "  <thead>\n",
       "    <tr style=\"text-align: right;\">\n",
       "      <th></th>\n",
       "      <th>ImageID</th>\n",
       "      <th>Source</th>\n",
       "      <th>LabelName</th>\n",
       "      <th>Confidence</th>\n",
       "      <th>XMin</th>\n",
       "      <th>XMax</th>\n",
       "      <th>YMin</th>\n",
       "      <th>YMax</th>\n",
       "      <th>IsOccluded</th>\n",
       "      <th>IsTruncated</th>\n",
       "      <th>IsGroupOf</th>\n",
       "      <th>IsDepiction</th>\n",
       "      <th>IsInside</th>\n",
       "      <th>Weight</th>\n",
       "    </tr>\n",
       "  </thead>\n",
       "  <tbody>\n",
       "    <tr>\n",
       "      <th>0</th>\n",
       "      <td>8d6dec80235b6fea</td>\n",
       "      <td>xclick</td>\n",
       "      <td>/m/09j5n</td>\n",
       "      <td>1</td>\n",
       "      <td>0.760000</td>\n",
       "      <td>0.778125</td>\n",
       "      <td>0.645892</td>\n",
       "      <td>0.673277</td>\n",
       "      <td>0</td>\n",
       "      <td>0</td>\n",
       "      <td>0</td>\n",
       "      <td>0</td>\n",
       "      <td>0</td>\n",
       "      <td>0.637272</td>\n",
       "    </tr>\n",
       "    <tr>\n",
       "      <th>1</th>\n",
       "      <td>8d6dec80235b6fea</td>\n",
       "      <td>xclick</td>\n",
       "      <td>/m/09j5n</td>\n",
       "      <td>1</td>\n",
       "      <td>0.817500</td>\n",
       "      <td>0.831875</td>\n",
       "      <td>0.628895</td>\n",
       "      <td>0.661945</td>\n",
       "      <td>0</td>\n",
       "      <td>0</td>\n",
       "      <td>0</td>\n",
       "      <td>0</td>\n",
       "      <td>0</td>\n",
       "      <td>0.637272</td>\n",
       "    </tr>\n",
       "    <tr>\n",
       "      <th>2</th>\n",
       "      <td>8d6dec80235b6fea</td>\n",
       "      <td>xclick</td>\n",
       "      <td>/m/09j5n</td>\n",
       "      <td>1</td>\n",
       "      <td>0.843125</td>\n",
       "      <td>0.870000</td>\n",
       "      <td>0.619452</td>\n",
       "      <td>0.645892</td>\n",
       "      <td>0</td>\n",
       "      <td>0</td>\n",
       "      <td>0</td>\n",
       "      <td>0</td>\n",
       "      <td>0</td>\n",
       "      <td>0.637272</td>\n",
       "    </tr>\n",
       "    <tr>\n",
       "      <th>3</th>\n",
       "      <td>8d6dec80235b6fea</td>\n",
       "      <td>xclick</td>\n",
       "      <td>/m/09j5n</td>\n",
       "      <td>1</td>\n",
       "      <td>0.867500</td>\n",
       "      <td>0.891875</td>\n",
       "      <td>0.597734</td>\n",
       "      <td>0.625118</td>\n",
       "      <td>0</td>\n",
       "      <td>0</td>\n",
       "      <td>0</td>\n",
       "      <td>0</td>\n",
       "      <td>0</td>\n",
       "      <td>0.637272</td>\n",
       "    </tr>\n",
       "    <tr>\n",
       "      <th>4</th>\n",
       "      <td>8d6dec80235b6fea</td>\n",
       "      <td>xclick</td>\n",
       "      <td>/m/09j5n</td>\n",
       "      <td>1</td>\n",
       "      <td>0.895625</td>\n",
       "      <td>0.911250</td>\n",
       "      <td>0.625118</td>\n",
       "      <td>0.656280</td>\n",
       "      <td>0</td>\n",
       "      <td>0</td>\n",
       "      <td>0</td>\n",
       "      <td>0</td>\n",
       "      <td>0</td>\n",
       "      <td>0.637272</td>\n",
       "    </tr>\n",
       "  </tbody>\n",
       "</table>\n",
       "</div>"
      ],
      "text/plain": [
       "            ImageID  Source LabelName  Confidence      XMin      XMax  \\\n",
       "0  8d6dec80235b6fea  xclick  /m/09j5n           1  0.760000  0.778125   \n",
       "1  8d6dec80235b6fea  xclick  /m/09j5n           1  0.817500  0.831875   \n",
       "2  8d6dec80235b6fea  xclick  /m/09j5n           1  0.843125  0.870000   \n",
       "3  8d6dec80235b6fea  xclick  /m/09j5n           1  0.867500  0.891875   \n",
       "4  8d6dec80235b6fea  xclick  /m/09j5n           1  0.895625  0.911250   \n",
       "\n",
       "       YMin      YMax  IsOccluded  IsTruncated  IsGroupOf  IsDepiction  \\\n",
       "0  0.645892  0.673277           0            0          0            0   \n",
       "1  0.628895  0.661945           0            0          0            0   \n",
       "2  0.619452  0.645892           0            0          0            0   \n",
       "3  0.597734  0.625118           0            0          0            0   \n",
       "4  0.625118  0.656280           0            0          0            0   \n",
       "\n",
       "   IsInside    Weight  \n",
       "0         0  0.637272  \n",
       "1         0  0.637272  \n",
       "2         0  0.637272  \n",
       "3         0  0.637272  \n",
       "4         0  0.637272  "
      ]
     },
     "execution_count": 35,
     "metadata": {},
     "output_type": "execute_result"
    }
   ],
   "source": [
    "df_h.head()"
   ]
  },
  {
   "cell_type": "code",
   "execution_count": 36,
   "metadata": {},
   "outputs": [
    {
     "data": {
      "text/plain": [
       "9014216"
      ]
     },
     "execution_count": 36,
     "metadata": {},
     "output_type": "execute_result"
    }
   ],
   "source": [
    "len(df_h)"
   ]
  },
  {
   "cell_type": "code",
   "execution_count": 37,
   "metadata": {},
   "outputs": [],
   "source": [
    "df_l = df.join(lows, on='LabelName', how='inner')"
   ]
  },
  {
   "cell_type": "code",
   "execution_count": 38,
   "metadata": {},
   "outputs": [
    {
     "data": {
      "text/html": [
       "<div>\n",
       "<style scoped>\n",
       "    .dataframe tbody tr th:only-of-type {\n",
       "        vertical-align: middle;\n",
       "    }\n",
       "\n",
       "    .dataframe tbody tr th {\n",
       "        vertical-align: top;\n",
       "    }\n",
       "\n",
       "    .dataframe thead th {\n",
       "        text-align: right;\n",
       "    }\n",
       "</style>\n",
       "<table border=\"1\" class=\"dataframe\">\n",
       "  <thead>\n",
       "    <tr style=\"text-align: right;\">\n",
       "      <th></th>\n",
       "      <th>ImageID</th>\n",
       "      <th>Source</th>\n",
       "      <th>LabelName</th>\n",
       "      <th>Confidence</th>\n",
       "      <th>XMin</th>\n",
       "      <th>XMax</th>\n",
       "      <th>YMin</th>\n",
       "      <th>YMax</th>\n",
       "      <th>IsOccluded</th>\n",
       "      <th>IsTruncated</th>\n",
       "      <th>IsGroupOf</th>\n",
       "      <th>IsDepiction</th>\n",
       "      <th>IsInside</th>\n",
       "      <th>Weight</th>\n",
       "    </tr>\n",
       "  </thead>\n",
       "  <tbody>\n",
       "    <tr>\n",
       "      <th>84</th>\n",
       "      <td>8d6e9ce2c9d9179a</td>\n",
       "      <td>xclick</td>\n",
       "      <td>/m/0176mf</td>\n",
       "      <td>1</td>\n",
       "      <td>0.015000</td>\n",
       "      <td>0.887500</td>\n",
       "      <td>0.326130</td>\n",
       "      <td>0.757695</td>\n",
       "      <td>0</td>\n",
       "      <td>0</td>\n",
       "      <td>0</td>\n",
       "      <td>0</td>\n",
       "      <td>0</td>\n",
       "      <td>1.156877</td>\n",
       "    </tr>\n",
       "    <tr>\n",
       "      <th>16540</th>\n",
       "      <td>8dbe5ee0ee6aac78</td>\n",
       "      <td>xclick</td>\n",
       "      <td>/m/0176mf</td>\n",
       "      <td>1</td>\n",
       "      <td>0.000000</td>\n",
       "      <td>0.999023</td>\n",
       "      <td>0.157122</td>\n",
       "      <td>0.867841</td>\n",
       "      <td>0</td>\n",
       "      <td>1</td>\n",
       "      <td>0</td>\n",
       "      <td>0</td>\n",
       "      <td>0</td>\n",
       "      <td>1.156877</td>\n",
       "    </tr>\n",
       "    <tr>\n",
       "      <th>116360</th>\n",
       "      <td>8fd920b73edf9caf</td>\n",
       "      <td>xclick</td>\n",
       "      <td>/m/0176mf</td>\n",
       "      <td>1</td>\n",
       "      <td>0.168750</td>\n",
       "      <td>0.546250</td>\n",
       "      <td>0.066250</td>\n",
       "      <td>0.528750</td>\n",
       "      <td>0</td>\n",
       "      <td>0</td>\n",
       "      <td>0</td>\n",
       "      <td>0</td>\n",
       "      <td>0</td>\n",
       "      <td>1.156877</td>\n",
       "    </tr>\n",
       "    <tr>\n",
       "      <th>131597</th>\n",
       "      <td>902ae1b75d636021</td>\n",
       "      <td>xclick</td>\n",
       "      <td>/m/0176mf</td>\n",
       "      <td>1</td>\n",
       "      <td>0.470000</td>\n",
       "      <td>0.651875</td>\n",
       "      <td>0.833959</td>\n",
       "      <td>0.918387</td>\n",
       "      <td>1</td>\n",
       "      <td>0</td>\n",
       "      <td>0</td>\n",
       "      <td>0</td>\n",
       "      <td>0</td>\n",
       "      <td>1.156877</td>\n",
       "    </tr>\n",
       "    <tr>\n",
       "      <th>246340</th>\n",
       "      <td>cb7650d72c9cbf46</td>\n",
       "      <td>activemil</td>\n",
       "      <td>/m/0176mf</td>\n",
       "      <td>1</td>\n",
       "      <td>0.470874</td>\n",
       "      <td>0.756472</td>\n",
       "      <td>0.303750</td>\n",
       "      <td>0.440000</td>\n",
       "      <td>0</td>\n",
       "      <td>0</td>\n",
       "      <td>0</td>\n",
       "      <td>0</td>\n",
       "      <td>0</td>\n",
       "      <td>1.156877</td>\n",
       "    </tr>\n",
       "  </tbody>\n",
       "</table>\n",
       "</div>"
      ],
      "text/plain": [
       "                 ImageID     Source  LabelName  Confidence      XMin  \\\n",
       "84      8d6e9ce2c9d9179a     xclick  /m/0176mf           1  0.015000   \n",
       "16540   8dbe5ee0ee6aac78     xclick  /m/0176mf           1  0.000000   \n",
       "116360  8fd920b73edf9caf     xclick  /m/0176mf           1  0.168750   \n",
       "131597  902ae1b75d636021     xclick  /m/0176mf           1  0.470000   \n",
       "246340  cb7650d72c9cbf46  activemil  /m/0176mf           1  0.470874   \n",
       "\n",
       "            XMax      YMin      YMax  IsOccluded  IsTruncated  IsGroupOf  \\\n",
       "84      0.887500  0.326130  0.757695           0            0          0   \n",
       "16540   0.999023  0.157122  0.867841           0            1          0   \n",
       "116360  0.546250  0.066250  0.528750           0            0          0   \n",
       "131597  0.651875  0.833959  0.918387           1            0          0   \n",
       "246340  0.756472  0.303750  0.440000           0            0          0   \n",
       "\n",
       "        IsDepiction  IsInside    Weight  \n",
       "84                0         0  1.156877  \n",
       "16540             0         0  1.156877  \n",
       "116360            0         0  1.156877  \n",
       "131597            0         0  1.156877  \n",
       "246340            0         0  1.156877  "
      ]
     },
     "execution_count": 38,
     "metadata": {},
     "output_type": "execute_result"
    }
   ],
   "source": [
    "df_l.head()"
   ]
  },
  {
   "cell_type": "code",
   "execution_count": 39,
   "metadata": {},
   "outputs": [
    {
     "data": {
      "text/plain": [
       "94223"
      ]
     },
     "execution_count": 39,
     "metadata": {},
     "output_type": "execute_result"
    }
   ],
   "source": [
    "len(df_l)"
   ]
  },
  {
   "cell_type": "code",
   "execution_count": 40,
   "metadata": {},
   "outputs": [],
   "source": [
    "df_m = df.join(mids, on='LabelName', how='inner')"
   ]
  },
  {
   "cell_type": "code",
   "execution_count": 41,
   "metadata": {},
   "outputs": [
    {
     "data": {
      "text/html": [
       "<div>\n",
       "<style scoped>\n",
       "    .dataframe tbody tr th:only-of-type {\n",
       "        vertical-align: middle;\n",
       "    }\n",
       "\n",
       "    .dataframe tbody tr th {\n",
       "        vertical-align: top;\n",
       "    }\n",
       "\n",
       "    .dataframe thead th {\n",
       "        text-align: right;\n",
       "    }\n",
       "</style>\n",
       "<table border=\"1\" class=\"dataframe\">\n",
       "  <thead>\n",
       "    <tr style=\"text-align: right;\">\n",
       "      <th></th>\n",
       "      <th>ImageID</th>\n",
       "      <th>Source</th>\n",
       "      <th>LabelName</th>\n",
       "      <th>Confidence</th>\n",
       "      <th>XMin</th>\n",
       "      <th>XMax</th>\n",
       "      <th>YMin</th>\n",
       "      <th>YMax</th>\n",
       "      <th>IsOccluded</th>\n",
       "      <th>IsTruncated</th>\n",
       "      <th>IsGroupOf</th>\n",
       "      <th>IsDepiction</th>\n",
       "      <th>IsInside</th>\n",
       "      <th>Weight</th>\n",
       "    </tr>\n",
       "  </thead>\n",
       "  <tbody>\n",
       "    <tr>\n",
       "      <th>9</th>\n",
       "      <td>8d6dec80235b6fea</td>\n",
       "      <td>xclick</td>\n",
       "      <td>/m/0fly7</td>\n",
       "      <td>1</td>\n",
       "      <td>0.155625</td>\n",
       "      <td>0.216875</td>\n",
       "      <td>0.593012</td>\n",
       "      <td>0.718602</td>\n",
       "      <td>0</td>\n",
       "      <td>0</td>\n",
       "      <td>0</td>\n",
       "      <td>0</td>\n",
       "      <td>0</td>\n",
       "      <td>0.136579</td>\n",
       "    </tr>\n",
       "    <tr>\n",
       "      <th>10</th>\n",
       "      <td>8d6dec80235b6fea</td>\n",
       "      <td>xclick</td>\n",
       "      <td>/m/0fly7</td>\n",
       "      <td>1</td>\n",
       "      <td>0.241250</td>\n",
       "      <td>0.325625</td>\n",
       "      <td>0.650614</td>\n",
       "      <td>0.875354</td>\n",
       "      <td>0</td>\n",
       "      <td>0</td>\n",
       "      <td>0</td>\n",
       "      <td>0</td>\n",
       "      <td>0</td>\n",
       "      <td>0.136579</td>\n",
       "    </tr>\n",
       "    <tr>\n",
       "      <th>11</th>\n",
       "      <td>8d6dec80235b6fea</td>\n",
       "      <td>xclick</td>\n",
       "      <td>/m/0fly7</td>\n",
       "      <td>1</td>\n",
       "      <td>0.398750</td>\n",
       "      <td>0.474375</td>\n",
       "      <td>0.608121</td>\n",
       "      <td>0.779037</td>\n",
       "      <td>0</td>\n",
       "      <td>0</td>\n",
       "      <td>0</td>\n",
       "      <td>0</td>\n",
       "      <td>0</td>\n",
       "      <td>0.136579</td>\n",
       "    </tr>\n",
       "    <tr>\n",
       "      <th>12</th>\n",
       "      <td>8d6dec80235b6fea</td>\n",
       "      <td>xclick</td>\n",
       "      <td>/m/0fly7</td>\n",
       "      <td>1</td>\n",
       "      <td>0.510625</td>\n",
       "      <td>0.548750</td>\n",
       "      <td>0.556185</td>\n",
       "      <td>0.724268</td>\n",
       "      <td>0</td>\n",
       "      <td>0</td>\n",
       "      <td>0</td>\n",
       "      <td>0</td>\n",
       "      <td>0</td>\n",
       "      <td>0.136579</td>\n",
       "    </tr>\n",
       "    <tr>\n",
       "      <th>13</th>\n",
       "      <td>8d6dec80235b6fea</td>\n",
       "      <td>xclick</td>\n",
       "      <td>/m/0fly7</td>\n",
       "      <td>1</td>\n",
       "      <td>0.719375</td>\n",
       "      <td>0.774375</td>\n",
       "      <td>0.471199</td>\n",
       "      <td>0.626062</td>\n",
       "      <td>0</td>\n",
       "      <td>0</td>\n",
       "      <td>0</td>\n",
       "      <td>0</td>\n",
       "      <td>0</td>\n",
       "      <td>0.136579</td>\n",
       "    </tr>\n",
       "  </tbody>\n",
       "</table>\n",
       "</div>"
      ],
      "text/plain": [
       "             ImageID  Source LabelName  Confidence      XMin      XMax  \\\n",
       "9   8d6dec80235b6fea  xclick  /m/0fly7           1  0.155625  0.216875   \n",
       "10  8d6dec80235b6fea  xclick  /m/0fly7           1  0.241250  0.325625   \n",
       "11  8d6dec80235b6fea  xclick  /m/0fly7           1  0.398750  0.474375   \n",
       "12  8d6dec80235b6fea  xclick  /m/0fly7           1  0.510625  0.548750   \n",
       "13  8d6dec80235b6fea  xclick  /m/0fly7           1  0.719375  0.774375   \n",
       "\n",
       "        YMin      YMax  IsOccluded  IsTruncated  IsGroupOf  IsDepiction  \\\n",
       "9   0.593012  0.718602           0            0          0            0   \n",
       "10  0.650614  0.875354           0            0          0            0   \n",
       "11  0.608121  0.779037           0            0          0            0   \n",
       "12  0.556185  0.724268           0            0          0            0   \n",
       "13  0.471199  0.626062           0            0          0            0   \n",
       "\n",
       "    IsInside    Weight  \n",
       "9          0  0.136579  \n",
       "10         0  0.136579  \n",
       "11         0  0.136579  \n",
       "12         0  0.136579  \n",
       "13         0  0.136579  "
      ]
     },
     "execution_count": 41,
     "metadata": {},
     "output_type": "execute_result"
    }
   ],
   "source": [
    "df_m.head()"
   ]
  },
  {
   "cell_type": "code",
   "execution_count": 42,
   "metadata": {},
   "outputs": [
    {
     "data": {
      "text/plain": [
       "3086705"
      ]
     },
     "execution_count": 42,
     "metadata": {},
     "output_type": "execute_result"
    }
   ],
   "source": [
    "len(df_m)"
   ]
  },
  {
   "cell_type": "code",
   "execution_count": 43,
   "metadata": {},
   "outputs": [
    {
     "data": {
      "text/plain": [
       "937280"
      ]
     },
     "execution_count": 43,
     "metadata": {},
     "output_type": "execute_result"
    }
   ],
   "source": [
    "df_m.ImageID.nunique()"
   ]
  },
  {
   "cell_type": "code",
   "execution_count": 44,
   "metadata": {},
   "outputs": [
    {
     "data": {
      "text/plain": [
       "1266188"
      ]
     },
     "execution_count": 44,
     "metadata": {},
     "output_type": "execute_result"
    }
   ],
   "source": [
    "df_h.ImageID.nunique()"
   ]
  },
  {
   "cell_type": "code",
   "execution_count": 45,
   "metadata": {},
   "outputs": [
    {
     "data": {
      "text/plain": [
       "58011"
      ]
     },
     "execution_count": 45,
     "metadata": {},
     "output_type": "execute_result"
    }
   ],
   "source": [
    "df_l.ImageID.nunique()"
   ]
  },
  {
   "cell_type": "code",
   "execution_count": 46,
   "metadata": {},
   "outputs": [
    {
     "data": {
      "text/plain": [
       "1674979"
      ]
     },
     "execution_count": 46,
     "metadata": {},
     "output_type": "execute_result"
    }
   ],
   "source": [
    "df.ImageID.nunique()"
   ]
  },
  {
   "cell_type": "code",
   "execution_count": 47,
   "metadata": {},
   "outputs": [],
   "source": [
    "df_l.to_csv('train/boxes_low.csv', index=False)"
   ]
  },
  {
   "cell_type": "code",
   "execution_count": 48,
   "metadata": {},
   "outputs": [],
   "source": [
    "df_m.to_csv('train/boxes_mid.csv', index=False)"
   ]
  },
  {
   "cell_type": "code",
   "execution_count": 49,
   "metadata": {},
   "outputs": [],
   "source": [
    "df_h.to_csv('train/boxes_high.csv', index=False)"
   ]
  },
  {
   "cell_type": "code",
   "execution_count": 56,
   "metadata": {},
   "outputs": [],
   "source": [
    "highs.to_csv('train/weights_h.csv', index_label='LabelName', header=True)"
   ]
  },
  {
   "cell_type": "code",
   "execution_count": 57,
   "metadata": {},
   "outputs": [],
   "source": [
    "mids.to_csv('train/weights_m.csv', index_label='LabelName', header=True)\n",
    "lows.to_csv('train/weights_l.csv', index_label='LabelName', header=True)"
   ]
  },
  {
   "cell_type": "code",
   "execution_count": 58,
   "metadata": {},
   "outputs": [],
   "source": [
    "vd = pd.read_csv('validation/challenge-2019-validation-detection-bbox.csv')"
   ]
  },
  {
   "cell_type": "code",
   "execution_count": 59,
   "metadata": {},
   "outputs": [
    {
     "data": {
      "text/html": [
       "<div>\n",
       "<style scoped>\n",
       "    .dataframe tbody tr th:only-of-type {\n",
       "        vertical-align: middle;\n",
       "    }\n",
       "\n",
       "    .dataframe tbody tr th {\n",
       "        vertical-align: top;\n",
       "    }\n",
       "\n",
       "    .dataframe thead th {\n",
       "        text-align: right;\n",
       "    }\n",
       "</style>\n",
       "<table border=\"1\" class=\"dataframe\">\n",
       "  <thead>\n",
       "    <tr style=\"text-align: right;\">\n",
       "      <th></th>\n",
       "      <th>ImageID</th>\n",
       "      <th>LabelName</th>\n",
       "      <th>XMin</th>\n",
       "      <th>XMax</th>\n",
       "      <th>YMin</th>\n",
       "      <th>YMax</th>\n",
       "      <th>IsGroupOf</th>\n",
       "    </tr>\n",
       "  </thead>\n",
       "  <tbody>\n",
       "    <tr>\n",
       "      <th>0</th>\n",
       "      <td>0001eeaf4aed83f9</td>\n",
       "      <td>/m/0cmf2</td>\n",
       "      <td>0.022673</td>\n",
       "      <td>0.964200</td>\n",
       "      <td>0.071038</td>\n",
       "      <td>0.800546</td>\n",
       "      <td>0</td>\n",
       "    </tr>\n",
       "    <tr>\n",
       "      <th>1</th>\n",
       "      <td>000595fe6fee6369</td>\n",
       "      <td>/m/02xwb</td>\n",
       "      <td>0.141384</td>\n",
       "      <td>0.179676</td>\n",
       "      <td>0.676275</td>\n",
       "      <td>0.731707</td>\n",
       "      <td>0</td>\n",
       "    </tr>\n",
       "    <tr>\n",
       "      <th>2</th>\n",
       "      <td>000595fe6fee6369</td>\n",
       "      <td>/m/02xwb</td>\n",
       "      <td>0.213549</td>\n",
       "      <td>0.253314</td>\n",
       "      <td>0.299335</td>\n",
       "      <td>0.354767</td>\n",
       "      <td>0</td>\n",
       "    </tr>\n",
       "    <tr>\n",
       "      <th>3</th>\n",
       "      <td>000595fe6fee6369</td>\n",
       "      <td>/m/02xwb</td>\n",
       "      <td>0.232695</td>\n",
       "      <td>0.288660</td>\n",
       "      <td>0.490022</td>\n",
       "      <td>0.545455</td>\n",
       "      <td>0</td>\n",
       "    </tr>\n",
       "    <tr>\n",
       "      <th>4</th>\n",
       "      <td>000595fe6fee6369</td>\n",
       "      <td>/m/02xwb</td>\n",
       "      <td>0.245950</td>\n",
       "      <td>0.291605</td>\n",
       "      <td>0.547672</td>\n",
       "      <td>0.605322</td>\n",
       "      <td>0</td>\n",
       "    </tr>\n",
       "  </tbody>\n",
       "</table>\n",
       "</div>"
      ],
      "text/plain": [
       "            ImageID LabelName      XMin      XMax      YMin      YMax  \\\n",
       "0  0001eeaf4aed83f9  /m/0cmf2  0.022673  0.964200  0.071038  0.800546   \n",
       "1  000595fe6fee6369  /m/02xwb  0.141384  0.179676  0.676275  0.731707   \n",
       "2  000595fe6fee6369  /m/02xwb  0.213549  0.253314  0.299335  0.354767   \n",
       "3  000595fe6fee6369  /m/02xwb  0.232695  0.288660  0.490022  0.545455   \n",
       "4  000595fe6fee6369  /m/02xwb  0.245950  0.291605  0.547672  0.605322   \n",
       "\n",
       "   IsGroupOf  \n",
       "0          0  \n",
       "1          0  \n",
       "2          0  \n",
       "3          0  \n",
       "4          0  "
      ]
     },
     "execution_count": 59,
     "metadata": {},
     "output_type": "execute_result"
    }
   ],
   "source": [
    "vd.head()"
   ]
  },
  {
   "cell_type": "code",
   "execution_count": 60,
   "metadata": {},
   "outputs": [],
   "source": [
    "vd_h = vd.join(highs, on='LabelName', how='inner')"
   ]
  },
  {
   "cell_type": "code",
   "execution_count": 61,
   "metadata": {},
   "outputs": [
    {
     "data": {
      "text/html": [
       "<div>\n",
       "<style scoped>\n",
       "    .dataframe tbody tr th:only-of-type {\n",
       "        vertical-align: middle;\n",
       "    }\n",
       "\n",
       "    .dataframe tbody tr th {\n",
       "        vertical-align: top;\n",
       "    }\n",
       "\n",
       "    .dataframe thead th {\n",
       "        text-align: right;\n",
       "    }\n",
       "</style>\n",
       "<table border=\"1\" class=\"dataframe\">\n",
       "  <thead>\n",
       "    <tr style=\"text-align: right;\">\n",
       "      <th></th>\n",
       "      <th>ImageID</th>\n",
       "      <th>LabelName</th>\n",
       "      <th>XMin</th>\n",
       "      <th>XMax</th>\n",
       "      <th>YMin</th>\n",
       "      <th>YMax</th>\n",
       "      <th>IsGroupOf</th>\n",
       "      <th>Weight</th>\n",
       "    </tr>\n",
       "  </thead>\n",
       "  <tbody>\n",
       "    <tr>\n",
       "      <th>28</th>\n",
       "      <td>00075905539074f2</td>\n",
       "      <td>/m/09j5n</td>\n",
       "      <td>0.025597</td>\n",
       "      <td>0.087031</td>\n",
       "      <td>0.552581</td>\n",
       "      <td>0.630975</td>\n",
       "      <td>0</td>\n",
       "      <td>0.637272</td>\n",
       "    </tr>\n",
       "    <tr>\n",
       "      <th>29</th>\n",
       "      <td>00075905539074f2</td>\n",
       "      <td>/m/09j5n</td>\n",
       "      <td>0.279863</td>\n",
       "      <td>0.325939</td>\n",
       "      <td>0.571702</td>\n",
       "      <td>0.663480</td>\n",
       "      <td>0</td>\n",
       "      <td>0.637272</td>\n",
       "    </tr>\n",
       "    <tr>\n",
       "      <th>30</th>\n",
       "      <td>00075905539074f2</td>\n",
       "      <td>/m/09j5n</td>\n",
       "      <td>0.395904</td>\n",
       "      <td>0.467577</td>\n",
       "      <td>0.550669</td>\n",
       "      <td>0.579350</td>\n",
       "      <td>0</td>\n",
       "      <td>0.637272</td>\n",
       "    </tr>\n",
       "    <tr>\n",
       "      <th>31</th>\n",
       "      <td>00075905539074f2</td>\n",
       "      <td>/m/09j5n</td>\n",
       "      <td>0.578498</td>\n",
       "      <td>0.604096</td>\n",
       "      <td>0.625239</td>\n",
       "      <td>0.665392</td>\n",
       "      <td>0</td>\n",
       "      <td>0.637272</td>\n",
       "    </tr>\n",
       "    <tr>\n",
       "      <th>32</th>\n",
       "      <td>00075905539074f2</td>\n",
       "      <td>/m/09j5n</td>\n",
       "      <td>0.684300</td>\n",
       "      <td>0.769625</td>\n",
       "      <td>0.281071</td>\n",
       "      <td>0.351816</td>\n",
       "      <td>0</td>\n",
       "      <td>0.637272</td>\n",
       "    </tr>\n",
       "  </tbody>\n",
       "</table>\n",
       "</div>"
      ],
      "text/plain": [
       "             ImageID LabelName      XMin      XMax      YMin      YMax  \\\n",
       "28  00075905539074f2  /m/09j5n  0.025597  0.087031  0.552581  0.630975   \n",
       "29  00075905539074f2  /m/09j5n  0.279863  0.325939  0.571702  0.663480   \n",
       "30  00075905539074f2  /m/09j5n  0.395904  0.467577  0.550669  0.579350   \n",
       "31  00075905539074f2  /m/09j5n  0.578498  0.604096  0.625239  0.665392   \n",
       "32  00075905539074f2  /m/09j5n  0.684300  0.769625  0.281071  0.351816   \n",
       "\n",
       "    IsGroupOf    Weight  \n",
       "28          0  0.637272  \n",
       "29          0  0.637272  \n",
       "30          0  0.637272  \n",
       "31          0  0.637272  \n",
       "32          0  0.637272  "
      ]
     },
     "execution_count": 61,
     "metadata": {},
     "output_type": "execute_result"
    }
   ],
   "source": [
    "vd_h.head()"
   ]
  },
  {
   "cell_type": "code",
   "execution_count": 62,
   "metadata": {},
   "outputs": [],
   "source": [
    "vd_m = vd.join(mids, on='LabelName', how='inner')"
   ]
  },
  {
   "cell_type": "code",
   "execution_count": 63,
   "metadata": {},
   "outputs": [
    {
     "data": {
      "text/html": [
       "<div>\n",
       "<style scoped>\n",
       "    .dataframe tbody tr th:only-of-type {\n",
       "        vertical-align: middle;\n",
       "    }\n",
       "\n",
       "    .dataframe tbody tr th {\n",
       "        vertical-align: top;\n",
       "    }\n",
       "\n",
       "    .dataframe thead th {\n",
       "        text-align: right;\n",
       "    }\n",
       "</style>\n",
       "<table border=\"1\" class=\"dataframe\">\n",
       "  <thead>\n",
       "    <tr style=\"text-align: right;\">\n",
       "      <th></th>\n",
       "      <th>ImageID</th>\n",
       "      <th>LabelName</th>\n",
       "      <th>XMin</th>\n",
       "      <th>XMax</th>\n",
       "      <th>YMin</th>\n",
       "      <th>YMax</th>\n",
       "      <th>IsGroupOf</th>\n",
       "      <th>Weight</th>\n",
       "    </tr>\n",
       "  </thead>\n",
       "  <tbody>\n",
       "    <tr>\n",
       "      <th>0</th>\n",
       "      <td>0001eeaf4aed83f9</td>\n",
       "      <td>/m/0cmf2</td>\n",
       "      <td>0.022673</td>\n",
       "      <td>0.964200</td>\n",
       "      <td>0.071038</td>\n",
       "      <td>0.800546</td>\n",
       "      <td>0</td>\n",
       "      <td>0.503534</td>\n",
       "    </tr>\n",
       "    <tr>\n",
       "      <th>52</th>\n",
       "      <td>0009bad4d8539bb4</td>\n",
       "      <td>/m/0cmf2</td>\n",
       "      <td>0.294551</td>\n",
       "      <td>0.705449</td>\n",
       "      <td>0.340708</td>\n",
       "      <td>0.515487</td>\n",
       "      <td>0</td>\n",
       "      <td>0.503534</td>\n",
       "    </tr>\n",
       "    <tr>\n",
       "      <th>152</th>\n",
       "      <td>0019e544c79847f5</td>\n",
       "      <td>/m/0cmf2</td>\n",
       "      <td>0.000000</td>\n",
       "      <td>0.349558</td>\n",
       "      <td>0.106195</td>\n",
       "      <td>0.396018</td>\n",
       "      <td>0</td>\n",
       "      <td>0.503534</td>\n",
       "    </tr>\n",
       "    <tr>\n",
       "      <th>153</th>\n",
       "      <td>0019e544c79847f5</td>\n",
       "      <td>/m/0cmf2</td>\n",
       "      <td>0.538348</td>\n",
       "      <td>0.874631</td>\n",
       "      <td>0.688053</td>\n",
       "      <td>0.909292</td>\n",
       "      <td>0</td>\n",
       "      <td>0.503534</td>\n",
       "    </tr>\n",
       "    <tr>\n",
       "      <th>414</th>\n",
       "      <td>007384da2ed0464f</td>\n",
       "      <td>/m/0cmf2</td>\n",
       "      <td>0.000000</td>\n",
       "      <td>1.000000</td>\n",
       "      <td>0.372917</td>\n",
       "      <td>0.768750</td>\n",
       "      <td>0</td>\n",
       "      <td>0.503534</td>\n",
       "    </tr>\n",
       "  </tbody>\n",
       "</table>\n",
       "</div>"
      ],
      "text/plain": [
       "              ImageID LabelName      XMin      XMax      YMin      YMax  \\\n",
       "0    0001eeaf4aed83f9  /m/0cmf2  0.022673  0.964200  0.071038  0.800546   \n",
       "52   0009bad4d8539bb4  /m/0cmf2  0.294551  0.705449  0.340708  0.515487   \n",
       "152  0019e544c79847f5  /m/0cmf2  0.000000  0.349558  0.106195  0.396018   \n",
       "153  0019e544c79847f5  /m/0cmf2  0.538348  0.874631  0.688053  0.909292   \n",
       "414  007384da2ed0464f  /m/0cmf2  0.000000  1.000000  0.372917  0.768750   \n",
       "\n",
       "     IsGroupOf    Weight  \n",
       "0            0  0.503534  \n",
       "52           0  0.503534  \n",
       "152          0  0.503534  \n",
       "153          0  0.503534  \n",
       "414          0  0.503534  "
      ]
     },
     "execution_count": 63,
     "metadata": {},
     "output_type": "execute_result"
    }
   ],
   "source": [
    "vd_m.head()"
   ]
  },
  {
   "cell_type": "code",
   "execution_count": 64,
   "metadata": {},
   "outputs": [],
   "source": [
    "vd_l = vd.join(lows, on='LabelName', how='inner')"
   ]
  },
  {
   "cell_type": "code",
   "execution_count": 65,
   "metadata": {},
   "outputs": [
    {
     "data": {
      "text/html": [
       "<div>\n",
       "<style scoped>\n",
       "    .dataframe tbody tr th:only-of-type {\n",
       "        vertical-align: middle;\n",
       "    }\n",
       "\n",
       "    .dataframe tbody tr th {\n",
       "        vertical-align: top;\n",
       "    }\n",
       "\n",
       "    .dataframe thead th {\n",
       "        text-align: right;\n",
       "    }\n",
       "</style>\n",
       "<table border=\"1\" class=\"dataframe\">\n",
       "  <thead>\n",
       "    <tr style=\"text-align: right;\">\n",
       "      <th></th>\n",
       "      <th>ImageID</th>\n",
       "      <th>LabelName</th>\n",
       "      <th>XMin</th>\n",
       "      <th>XMax</th>\n",
       "      <th>YMin</th>\n",
       "      <th>YMax</th>\n",
       "      <th>IsGroupOf</th>\n",
       "      <th>Weight</th>\n",
       "    </tr>\n",
       "  </thead>\n",
       "  <tbody>\n",
       "    <tr>\n",
       "      <th>177</th>\n",
       "      <td>002b0dc60b1068a9</td>\n",
       "      <td>/m/01s55n</td>\n",
       "      <td>0.000000</td>\n",
       "      <td>1.000000</td>\n",
       "      <td>0.000000</td>\n",
       "      <td>1.000000</td>\n",
       "      <td>1</td>\n",
       "      <td>0.774924</td>\n",
       "    </tr>\n",
       "    <tr>\n",
       "      <th>6432</th>\n",
       "      <td>06e90333a82a8361</td>\n",
       "      <td>/m/01s55n</td>\n",
       "      <td>0.005900</td>\n",
       "      <td>0.902655</td>\n",
       "      <td>0.061947</td>\n",
       "      <td>0.995575</td>\n",
       "      <td>0</td>\n",
       "      <td>0.774924</td>\n",
       "    </tr>\n",
       "    <tr>\n",
       "      <th>10305</th>\n",
       "      <td>0b6edfb096fad378</td>\n",
       "      <td>/m/01s55n</td>\n",
       "      <td>0.000000</td>\n",
       "      <td>1.000000</td>\n",
       "      <td>0.109145</td>\n",
       "      <td>1.000000</td>\n",
       "      <td>1</td>\n",
       "      <td>0.774924</td>\n",
       "    </tr>\n",
       "    <tr>\n",
       "      <th>19117</th>\n",
       "      <td>159c27c3fcf6e267</td>\n",
       "      <td>/m/01s55n</td>\n",
       "      <td>0.256318</td>\n",
       "      <td>0.765343</td>\n",
       "      <td>0.009025</td>\n",
       "      <td>0.985560</td>\n",
       "      <td>0</td>\n",
       "      <td>0.774924</td>\n",
       "    </tr>\n",
       "    <tr>\n",
       "      <th>31119</th>\n",
       "      <td>23455e0b913929d9</td>\n",
       "      <td>/m/01s55n</td>\n",
       "      <td>0.192931</td>\n",
       "      <td>0.792342</td>\n",
       "      <td>0.321508</td>\n",
       "      <td>0.827051</td>\n",
       "      <td>0</td>\n",
       "      <td>0.774924</td>\n",
       "    </tr>\n",
       "  </tbody>\n",
       "</table>\n",
       "</div>"
      ],
      "text/plain": [
       "                ImageID  LabelName      XMin      XMax      YMin      YMax  \\\n",
       "177    002b0dc60b1068a9  /m/01s55n  0.000000  1.000000  0.000000  1.000000   \n",
       "6432   06e90333a82a8361  /m/01s55n  0.005900  0.902655  0.061947  0.995575   \n",
       "10305  0b6edfb096fad378  /m/01s55n  0.000000  1.000000  0.109145  1.000000   \n",
       "19117  159c27c3fcf6e267  /m/01s55n  0.256318  0.765343  0.009025  0.985560   \n",
       "31119  23455e0b913929d9  /m/01s55n  0.192931  0.792342  0.321508  0.827051   \n",
       "\n",
       "       IsGroupOf    Weight  \n",
       "177            1  0.774924  \n",
       "6432           0  0.774924  \n",
       "10305          1  0.774924  \n",
       "19117          0  0.774924  \n",
       "31119          0  0.774924  "
      ]
     },
     "execution_count": 65,
     "metadata": {},
     "output_type": "execute_result"
    }
   ],
   "source": [
    "vd_l.head()"
   ]
  },
  {
   "cell_type": "code",
   "execution_count": 66,
   "metadata": {},
   "outputs": [],
   "source": [
    "vd_h.to_csv('validation/valid_boxes_h.csv', index=False)"
   ]
  },
  {
   "cell_type": "code",
   "execution_count": 67,
   "metadata": {},
   "outputs": [],
   "source": [
    "vd_m.to_csv('validation/valid_boxes_m.csv', index=False)\n",
    "vd_l.to_csv('validation/valid_boxes_l.csv', index=False)"
   ]
  },
  {
   "cell_type": "code",
   "execution_count": null,
   "metadata": {},
   "outputs": [],
   "source": []
  }
 ],
 "metadata": {
  "kernelspec": {
   "display_name": "Python OId19",
   "language": "python",
   "name": "oid19"
  },
  "language_info": {
   "codemirror_mode": {
    "name": "ipython",
    "version": 3
   },
   "file_extension": ".py",
   "mimetype": "text/x-python",
   "name": "python",
   "nbconvert_exporter": "python",
   "pygments_lexer": "ipython3",
   "version": "3.7.3"
  }
 },
 "nbformat": 4,
 "nbformat_minor": 2
}
