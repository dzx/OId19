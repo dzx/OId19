{
 "cells": [
  {
   "cell_type": "code",
   "execution_count": 1,
   "metadata": {},
   "outputs": [],
   "source": [
    "import pandas as pd"
   ]
  },
  {
   "cell_type": "code",
   "execution_count": 2,
   "metadata": {},
   "outputs": [],
   "source": [
    "df = pd.read_csv('train/challenge-2019-train-detection-bbox.csv')"
   ]
  },
  {
   "cell_type": "code",
   "execution_count": 3,
   "metadata": {},
   "outputs": [
    {
     "data": {
      "text/html": [
       "<div>\n",
       "<style scoped>\n",
       "    .dataframe tbody tr th:only-of-type {\n",
       "        vertical-align: middle;\n",
       "    }\n",
       "\n",
       "    .dataframe tbody tr th {\n",
       "        vertical-align: top;\n",
       "    }\n",
       "\n",
       "    .dataframe thead th {\n",
       "        text-align: right;\n",
       "    }\n",
       "</style>\n",
       "<table border=\"1\" class=\"dataframe\">\n",
       "  <thead>\n",
       "    <tr style=\"text-align: right;\">\n",
       "      <th></th>\n",
       "      <th>ImageID</th>\n",
       "      <th>Source</th>\n",
       "      <th>LabelName</th>\n",
       "      <th>Confidence</th>\n",
       "      <th>XMin</th>\n",
       "      <th>XMax</th>\n",
       "      <th>YMin</th>\n",
       "      <th>YMax</th>\n",
       "      <th>IsOccluded</th>\n",
       "      <th>IsTruncated</th>\n",
       "      <th>IsGroupOf</th>\n",
       "      <th>IsDepiction</th>\n",
       "      <th>IsInside</th>\n",
       "    </tr>\n",
       "  </thead>\n",
       "  <tbody>\n",
       "    <tr>\n",
       "      <th>0</th>\n",
       "      <td>8d6dec80235b6fea</td>\n",
       "      <td>xclick</td>\n",
       "      <td>/m/09j5n</td>\n",
       "      <td>1</td>\n",
       "      <td>0.760000</td>\n",
       "      <td>0.778125</td>\n",
       "      <td>0.645892</td>\n",
       "      <td>0.673277</td>\n",
       "      <td>0</td>\n",
       "      <td>0</td>\n",
       "      <td>0</td>\n",
       "      <td>0</td>\n",
       "      <td>0</td>\n",
       "    </tr>\n",
       "    <tr>\n",
       "      <th>1</th>\n",
       "      <td>8d6dec80235b6fea</td>\n",
       "      <td>xclick</td>\n",
       "      <td>/m/09j5n</td>\n",
       "      <td>1</td>\n",
       "      <td>0.817500</td>\n",
       "      <td>0.831875</td>\n",
       "      <td>0.628895</td>\n",
       "      <td>0.661945</td>\n",
       "      <td>0</td>\n",
       "      <td>0</td>\n",
       "      <td>0</td>\n",
       "      <td>0</td>\n",
       "      <td>0</td>\n",
       "    </tr>\n",
       "    <tr>\n",
       "      <th>2</th>\n",
       "      <td>8d6dec80235b6fea</td>\n",
       "      <td>xclick</td>\n",
       "      <td>/m/09j5n</td>\n",
       "      <td>1</td>\n",
       "      <td>0.843125</td>\n",
       "      <td>0.870000</td>\n",
       "      <td>0.619452</td>\n",
       "      <td>0.645892</td>\n",
       "      <td>0</td>\n",
       "      <td>0</td>\n",
       "      <td>0</td>\n",
       "      <td>0</td>\n",
       "      <td>0</td>\n",
       "    </tr>\n",
       "    <tr>\n",
       "      <th>3</th>\n",
       "      <td>8d6dec80235b6fea</td>\n",
       "      <td>xclick</td>\n",
       "      <td>/m/09j5n</td>\n",
       "      <td>1</td>\n",
       "      <td>0.867500</td>\n",
       "      <td>0.891875</td>\n",
       "      <td>0.597734</td>\n",
       "      <td>0.625118</td>\n",
       "      <td>0</td>\n",
       "      <td>0</td>\n",
       "      <td>0</td>\n",
       "      <td>0</td>\n",
       "      <td>0</td>\n",
       "    </tr>\n",
       "    <tr>\n",
       "      <th>4</th>\n",
       "      <td>8d6dec80235b6fea</td>\n",
       "      <td>xclick</td>\n",
       "      <td>/m/09j5n</td>\n",
       "      <td>1</td>\n",
       "      <td>0.895625</td>\n",
       "      <td>0.911250</td>\n",
       "      <td>0.625118</td>\n",
       "      <td>0.656280</td>\n",
       "      <td>0</td>\n",
       "      <td>0</td>\n",
       "      <td>0</td>\n",
       "      <td>0</td>\n",
       "      <td>0</td>\n",
       "    </tr>\n",
       "  </tbody>\n",
       "</table>\n",
       "</div>"
      ],
      "text/plain": [
       "            ImageID  Source LabelName  Confidence      XMin      XMax  \\\n",
       "0  8d6dec80235b6fea  xclick  /m/09j5n           1  0.760000  0.778125   \n",
       "1  8d6dec80235b6fea  xclick  /m/09j5n           1  0.817500  0.831875   \n",
       "2  8d6dec80235b6fea  xclick  /m/09j5n           1  0.843125  0.870000   \n",
       "3  8d6dec80235b6fea  xclick  /m/09j5n           1  0.867500  0.891875   \n",
       "4  8d6dec80235b6fea  xclick  /m/09j5n           1  0.895625  0.911250   \n",
       "\n",
       "       YMin      YMax  IsOccluded  IsTruncated  IsGroupOf  IsDepiction  \\\n",
       "0  0.645892  0.673277           0            0          0            0   \n",
       "1  0.628895  0.661945           0            0          0            0   \n",
       "2  0.619452  0.645892           0            0          0            0   \n",
       "3  0.597734  0.625118           0            0          0            0   \n",
       "4  0.625118  0.656280           0            0          0            0   \n",
       "\n",
       "   IsInside  \n",
       "0         0  \n",
       "1         0  \n",
       "2         0  \n",
       "3         0  \n",
       "4         0  "
      ]
     },
     "execution_count": 3,
     "metadata": {},
     "output_type": "execute_result"
    }
   ],
   "source": [
    "df.head()"
   ]
  },
  {
   "cell_type": "code",
   "execution_count": 4,
   "metadata": {},
   "outputs": [],
   "source": [
    "cnts = df.LabelName.value_counts()"
   ]
  },
  {
   "cell_type": "code",
   "execution_count": 5,
   "metadata": {},
   "outputs": [
    {
     "data": {
      "text/plain": [
       "/m/04yx4      1418594\n",
       "/m/07j7r      1051344\n",
       "/m/0dzct      1037710\n",
       "/m/01g317     1034721\n",
       "/m/03bt1vf     767337\n",
       "Name: LabelName, dtype: int64"
      ]
     },
     "execution_count": 5,
     "metadata": {},
     "output_type": "execute_result"
    }
   ],
   "source": [
    "cnts.head()"
   ]
  },
  {
   "cell_type": "code",
   "execution_count": 6,
   "metadata": {},
   "outputs": [
    {
     "data": {
      "text/plain": [
       "12195144"
      ]
     },
     "execution_count": 6,
     "metadata": {},
     "output_type": "execute_result"
    }
   ],
   "source": [
    "len(df)"
   ]
  },
  {
   "cell_type": "code",
   "execution_count": 7,
   "metadata": {},
   "outputs": [
    {
     "data": {
      "text/plain": [
       "count    5.000000e+02\n",
       "mean     2.439029e+04\n",
       "std      1.189059e+05\n",
       "min      1.400000e+01\n",
       "25%      5.985000e+02\n",
       "50%      1.652000e+03\n",
       "75%      5.553000e+03\n",
       "max      1.418594e+06\n",
       "Name: LabelName, dtype: float64"
      ]
     },
     "execution_count": 7,
     "metadata": {},
     "output_type": "execute_result"
    }
   ],
   "source": [
    "cnts.describe()"
   ]
  },
  {
   "cell_type": "code",
   "execution_count": 8,
   "metadata": {},
   "outputs": [
    {
     "data": {
      "text/plain": [
       "/m/04yx4      0.017193\n",
       "/m/07j7r      0.023199\n",
       "/m/0dzct      0.023504\n",
       "/m/01g317     0.023572\n",
       "/m/03bt1vf    0.031786\n",
       "Name: LabelName, dtype: float64"
      ]
     },
     "execution_count": 8,
     "metadata": {},
     "output_type": "execute_result"
    }
   ],
   "source": [
    "(cnts.mean()/cnts).head()"
   ]
  },
  {
   "cell_type": "code",
   "execution_count": 9,
   "metadata": {},
   "outputs": [
    {
     "data": {
      "text/plain": [
       "count     500.000000\n",
       "mean       39.208089\n",
       "std       107.514526\n",
       "min         0.017193\n",
       "25%         4.394739\n",
       "50%        14.764102\n",
       "75%        40.752446\n",
       "max      1742.163429\n",
       "Name: LabelName, dtype: float64"
      ]
     },
     "execution_count": 9,
     "metadata": {},
     "output_type": "execute_result"
    }
   ],
   "source": [
    "(cnts.mean()/cnts).describe()"
   ]
  },
  {
   "cell_type": "code",
   "execution_count": 10,
   "metadata": {},
   "outputs": [
    {
     "data": {
      "text/plain": [
       "/m/01j51     13505\n",
       "/m/04_sv     13382\n",
       "/m/03k3r     13368\n",
       "/m/02dl1y    13245\n",
       "/m/07jdr     13050\n",
       "             ...  \n",
       "/m/03d443      724\n",
       "/m/0cd4d       715\n",
       "/m/029b3       714\n",
       "/m/03tw93      711\n",
       "/m/01dwsz      710\n",
       "Name: LabelName, Length: 277, dtype: int64"
      ]
     },
     "execution_count": 10,
     "metadata": {},
     "output_type": "execute_result"
    }
   ],
   "source": [
    "cnts[(14*50 <= cnts) & (cnts < 14*50*20)]"
   ]
  },
  {
   "cell_type": "code",
   "execution_count": 11,
   "metadata": {},
   "outputs": [],
   "source": [
    "lows = cnts[cnts < 14*50]\n",
    "mids = cnts[(cnts >= 14*50) & (cnts < 14*50*20)]\n",
    "highs = cnts[cnts >= 14*50*20]"
   ]
  },
  {
   "cell_type": "code",
   "execution_count": 12,
   "metadata": {},
   "outputs": [
    {
     "data": {
      "text/plain": [
       "count    150.000000\n",
       "mean     387.013333\n",
       "std      181.251392\n",
       "min       14.000000\n",
       "25%      239.500000\n",
       "50%      379.000000\n",
       "75%      560.250000\n",
       "max      688.000000\n",
       "Name: LabelName, dtype: float64"
      ]
     },
     "execution_count": 12,
     "metadata": {},
     "output_type": "execute_result"
    }
   ],
   "source": [
    "lows.describe()"
   ]
  },
  {
   "cell_type": "code",
   "execution_count": 13,
   "metadata": {},
   "outputs": [
    {
     "data": {
      "text/plain": [
       "count      277.000000\n",
       "mean      3428.660650\n",
       "std       3064.087383\n",
       "min        710.000000\n",
       "25%       1260.000000\n",
       "50%       2088.000000\n",
       "75%       4507.000000\n",
       "max      13505.000000\n",
       "Name: LabelName, dtype: float64"
      ]
     },
     "execution_count": 13,
     "metadata": {},
     "output_type": "execute_result"
    }
   ],
   "source": [
    "mids.describe()"
   ]
  },
  {
   "cell_type": "code",
   "execution_count": 14,
   "metadata": {},
   "outputs": [
    {
     "data": {
      "text/plain": [
       "count    7.300000e+01\n",
       "mean     1.532514e+05\n",
       "std      2.796888e+05\n",
       "min      1.518300e+04\n",
       "25%      2.399600e+04\n",
       "50%      4.469700e+04\n",
       "75%      1.108480e+05\n",
       "max      1.418594e+06\n",
       "Name: LabelName, dtype: float64"
      ]
     },
     "execution_count": 14,
     "metadata": {},
     "output_type": "execute_result"
    }
   ],
   "source": [
    "highs.describe()"
   ]
  },
  {
   "cell_type": "code",
   "execution_count": 15,
   "metadata": {},
   "outputs": [
    {
     "name": "stdout",
     "output_type": "stream",
     "text": [
      "58052 949739 11187353\n"
     ]
    }
   ],
   "source": [
    "print(lows.sum(), mids.sum(), highs.sum())"
   ]
  },
  {
   "cell_type": "code",
   "execution_count": 16,
   "metadata": {},
   "outputs": [
    {
     "data": {
      "text/plain": [
       "/m/04yx4       0.108030\n",
       "/m/07j7r       0.145767\n",
       "/m/0dzct       0.147682\n",
       "/m/01g317      0.148109\n",
       "/m/03bt1vf     0.199719\n",
       "                ...    \n",
       "/m/0zvk5       9.286839\n",
       "/m/03p3bw      9.607034\n",
       "/m/09ddx       9.918543\n",
       "/m/081qc       9.951390\n",
       "/m/01yrx      10.093619\n",
       "Name: LabelName, Length: 73, dtype: float64"
      ]
     },
     "execution_count": 16,
     "metadata": {},
     "output_type": "execute_result"
    }
   ],
   "source": [
    "highs.mean() / highs"
   ]
  },
  {
   "cell_type": "code",
   "execution_count": 17,
   "metadata": {},
   "outputs": [],
   "source": [
    "highs = highs.mean() / highs\n",
    "mids = mids.mean() / mids\n",
    "lows = lows.mean() / lows"
   ]
  },
  {
   "cell_type": "code",
   "execution_count": 18,
   "metadata": {},
   "outputs": [],
   "source": [
    "highs.name = 'Weight'\n",
    "mids.name = 'Weight'\n",
    "lows.name = 'Weight'"
   ]
  },
  {
   "cell_type": "code",
   "execution_count": 20,
   "metadata": {},
   "outputs": [],
   "source": [
    "df_h = df.join(highs, on='LabelName', how='inner')"
   ]
  },
  {
   "cell_type": "code",
   "execution_count": 21,
   "metadata": {},
   "outputs": [
    {
     "data": {
      "text/html": [
       "<div>\n",
       "<style scoped>\n",
       "    .dataframe tbody tr th:only-of-type {\n",
       "        vertical-align: middle;\n",
       "    }\n",
       "\n",
       "    .dataframe tbody tr th {\n",
       "        vertical-align: top;\n",
       "    }\n",
       "\n",
       "    .dataframe thead th {\n",
       "        text-align: right;\n",
       "    }\n",
       "</style>\n",
       "<table border=\"1\" class=\"dataframe\">\n",
       "  <thead>\n",
       "    <tr style=\"text-align: right;\">\n",
       "      <th></th>\n",
       "      <th>ImageID</th>\n",
       "      <th>Source</th>\n",
       "      <th>LabelName</th>\n",
       "      <th>Confidence</th>\n",
       "      <th>XMin</th>\n",
       "      <th>XMax</th>\n",
       "      <th>YMin</th>\n",
       "      <th>YMax</th>\n",
       "      <th>IsOccluded</th>\n",
       "      <th>IsTruncated</th>\n",
       "      <th>IsGroupOf</th>\n",
       "      <th>IsDepiction</th>\n",
       "      <th>IsInside</th>\n",
       "      <th>Weight</th>\n",
       "    </tr>\n",
       "  </thead>\n",
       "  <tbody>\n",
       "    <tr>\n",
       "      <th>0</th>\n",
       "      <td>8d6dec80235b6fea</td>\n",
       "      <td>xclick</td>\n",
       "      <td>/m/09j5n</td>\n",
       "      <td>1</td>\n",
       "      <td>0.760000</td>\n",
       "      <td>0.778125</td>\n",
       "      <td>0.645892</td>\n",
       "      <td>0.673277</td>\n",
       "      <td>0</td>\n",
       "      <td>0</td>\n",
       "      <td>0</td>\n",
       "      <td>0</td>\n",
       "      <td>0</td>\n",
       "      <td>0.205852</td>\n",
       "    </tr>\n",
       "    <tr>\n",
       "      <th>1</th>\n",
       "      <td>8d6dec80235b6fea</td>\n",
       "      <td>xclick</td>\n",
       "      <td>/m/09j5n</td>\n",
       "      <td>1</td>\n",
       "      <td>0.817500</td>\n",
       "      <td>0.831875</td>\n",
       "      <td>0.628895</td>\n",
       "      <td>0.661945</td>\n",
       "      <td>0</td>\n",
       "      <td>0</td>\n",
       "      <td>0</td>\n",
       "      <td>0</td>\n",
       "      <td>0</td>\n",
       "      <td>0.205852</td>\n",
       "    </tr>\n",
       "    <tr>\n",
       "      <th>2</th>\n",
       "      <td>8d6dec80235b6fea</td>\n",
       "      <td>xclick</td>\n",
       "      <td>/m/09j5n</td>\n",
       "      <td>1</td>\n",
       "      <td>0.843125</td>\n",
       "      <td>0.870000</td>\n",
       "      <td>0.619452</td>\n",
       "      <td>0.645892</td>\n",
       "      <td>0</td>\n",
       "      <td>0</td>\n",
       "      <td>0</td>\n",
       "      <td>0</td>\n",
       "      <td>0</td>\n",
       "      <td>0.205852</td>\n",
       "    </tr>\n",
       "    <tr>\n",
       "      <th>3</th>\n",
       "      <td>8d6dec80235b6fea</td>\n",
       "      <td>xclick</td>\n",
       "      <td>/m/09j5n</td>\n",
       "      <td>1</td>\n",
       "      <td>0.867500</td>\n",
       "      <td>0.891875</td>\n",
       "      <td>0.597734</td>\n",
       "      <td>0.625118</td>\n",
       "      <td>0</td>\n",
       "      <td>0</td>\n",
       "      <td>0</td>\n",
       "      <td>0</td>\n",
       "      <td>0</td>\n",
       "      <td>0.205852</td>\n",
       "    </tr>\n",
       "    <tr>\n",
       "      <th>4</th>\n",
       "      <td>8d6dec80235b6fea</td>\n",
       "      <td>xclick</td>\n",
       "      <td>/m/09j5n</td>\n",
       "      <td>1</td>\n",
       "      <td>0.895625</td>\n",
       "      <td>0.911250</td>\n",
       "      <td>0.625118</td>\n",
       "      <td>0.656280</td>\n",
       "      <td>0</td>\n",
       "      <td>0</td>\n",
       "      <td>0</td>\n",
       "      <td>0</td>\n",
       "      <td>0</td>\n",
       "      <td>0.205852</td>\n",
       "    </tr>\n",
       "  </tbody>\n",
       "</table>\n",
       "</div>"
      ],
      "text/plain": [
       "            ImageID  Source LabelName  Confidence      XMin      XMax  \\\n",
       "0  8d6dec80235b6fea  xclick  /m/09j5n           1  0.760000  0.778125   \n",
       "1  8d6dec80235b6fea  xclick  /m/09j5n           1  0.817500  0.831875   \n",
       "2  8d6dec80235b6fea  xclick  /m/09j5n           1  0.843125  0.870000   \n",
       "3  8d6dec80235b6fea  xclick  /m/09j5n           1  0.867500  0.891875   \n",
       "4  8d6dec80235b6fea  xclick  /m/09j5n           1  0.895625  0.911250   \n",
       "\n",
       "       YMin      YMax  IsOccluded  IsTruncated  IsGroupOf  IsDepiction  \\\n",
       "0  0.645892  0.673277           0            0          0            0   \n",
       "1  0.628895  0.661945           0            0          0            0   \n",
       "2  0.619452  0.645892           0            0          0            0   \n",
       "3  0.597734  0.625118           0            0          0            0   \n",
       "4  0.625118  0.656280           0            0          0            0   \n",
       "\n",
       "   IsInside    Weight  \n",
       "0         0  0.205852  \n",
       "1         0  0.205852  \n",
       "2         0  0.205852  \n",
       "3         0  0.205852  \n",
       "4         0  0.205852  "
      ]
     },
     "execution_count": 21,
     "metadata": {},
     "output_type": "execute_result"
    }
   ],
   "source": [
    "df_h.head()"
   ]
  },
  {
   "cell_type": "code",
   "execution_count": 22,
   "metadata": {},
   "outputs": [
    {
     "data": {
      "text/plain": [
       "11187353"
      ]
     },
     "execution_count": 22,
     "metadata": {},
     "output_type": "execute_result"
    }
   ],
   "source": [
    "len(df_h)"
   ]
  },
  {
   "cell_type": "code",
   "execution_count": 23,
   "metadata": {},
   "outputs": [],
   "source": [
    "df_l = df.join(lows, on='LabelName', how='inner')"
   ]
  },
  {
   "cell_type": "code",
   "execution_count": 24,
   "metadata": {},
   "outputs": [
    {
     "data": {
      "text/html": [
       "<div>\n",
       "<style scoped>\n",
       "    .dataframe tbody tr th:only-of-type {\n",
       "        vertical-align: middle;\n",
       "    }\n",
       "\n",
       "    .dataframe tbody tr th {\n",
       "        vertical-align: top;\n",
       "    }\n",
       "\n",
       "    .dataframe thead th {\n",
       "        text-align: right;\n",
       "    }\n",
       "</style>\n",
       "<table border=\"1\" class=\"dataframe\">\n",
       "  <thead>\n",
       "    <tr style=\"text-align: right;\">\n",
       "      <th></th>\n",
       "      <th>ImageID</th>\n",
       "      <th>Source</th>\n",
       "      <th>LabelName</th>\n",
       "      <th>Confidence</th>\n",
       "      <th>XMin</th>\n",
       "      <th>XMax</th>\n",
       "      <th>YMin</th>\n",
       "      <th>YMax</th>\n",
       "      <th>IsOccluded</th>\n",
       "      <th>IsTruncated</th>\n",
       "      <th>IsGroupOf</th>\n",
       "      <th>IsDepiction</th>\n",
       "      <th>IsInside</th>\n",
       "      <th>Weight</th>\n",
       "    </tr>\n",
       "  </thead>\n",
       "  <tbody>\n",
       "    <tr>\n",
       "      <th>84</th>\n",
       "      <td>8d6e9ce2c9d9179a</td>\n",
       "      <td>xclick</td>\n",
       "      <td>/m/0176mf</td>\n",
       "      <td>1</td>\n",
       "      <td>0.015000</td>\n",
       "      <td>0.887500</td>\n",
       "      <td>0.326130</td>\n",
       "      <td>0.757695</td>\n",
       "      <td>0</td>\n",
       "      <td>0</td>\n",
       "      <td>0</td>\n",
       "      <td>0</td>\n",
       "      <td>0</td>\n",
       "      <td>0.917093</td>\n",
       "    </tr>\n",
       "    <tr>\n",
       "      <th>16540</th>\n",
       "      <td>8dbe5ee0ee6aac78</td>\n",
       "      <td>xclick</td>\n",
       "      <td>/m/0176mf</td>\n",
       "      <td>1</td>\n",
       "      <td>0.000000</td>\n",
       "      <td>0.999023</td>\n",
       "      <td>0.157122</td>\n",
       "      <td>0.867841</td>\n",
       "      <td>0</td>\n",
       "      <td>1</td>\n",
       "      <td>0</td>\n",
       "      <td>0</td>\n",
       "      <td>0</td>\n",
       "      <td>0.917093</td>\n",
       "    </tr>\n",
       "    <tr>\n",
       "      <th>116360</th>\n",
       "      <td>8fd920b73edf9caf</td>\n",
       "      <td>xclick</td>\n",
       "      <td>/m/0176mf</td>\n",
       "      <td>1</td>\n",
       "      <td>0.168750</td>\n",
       "      <td>0.546250</td>\n",
       "      <td>0.066250</td>\n",
       "      <td>0.528750</td>\n",
       "      <td>0</td>\n",
       "      <td>0</td>\n",
       "      <td>0</td>\n",
       "      <td>0</td>\n",
       "      <td>0</td>\n",
       "      <td>0.917093</td>\n",
       "    </tr>\n",
       "    <tr>\n",
       "      <th>131597</th>\n",
       "      <td>902ae1b75d636021</td>\n",
       "      <td>xclick</td>\n",
       "      <td>/m/0176mf</td>\n",
       "      <td>1</td>\n",
       "      <td>0.470000</td>\n",
       "      <td>0.651875</td>\n",
       "      <td>0.833959</td>\n",
       "      <td>0.918387</td>\n",
       "      <td>1</td>\n",
       "      <td>0</td>\n",
       "      <td>0</td>\n",
       "      <td>0</td>\n",
       "      <td>0</td>\n",
       "      <td>0.917093</td>\n",
       "    </tr>\n",
       "    <tr>\n",
       "      <th>246340</th>\n",
       "      <td>cb7650d72c9cbf46</td>\n",
       "      <td>activemil</td>\n",
       "      <td>/m/0176mf</td>\n",
       "      <td>1</td>\n",
       "      <td>0.470874</td>\n",
       "      <td>0.756472</td>\n",
       "      <td>0.303750</td>\n",
       "      <td>0.440000</td>\n",
       "      <td>0</td>\n",
       "      <td>0</td>\n",
       "      <td>0</td>\n",
       "      <td>0</td>\n",
       "      <td>0</td>\n",
       "      <td>0.917093</td>\n",
       "    </tr>\n",
       "  </tbody>\n",
       "</table>\n",
       "</div>"
      ],
      "text/plain": [
       "                 ImageID     Source  LabelName  Confidence      XMin  \\\n",
       "84      8d6e9ce2c9d9179a     xclick  /m/0176mf           1  0.015000   \n",
       "16540   8dbe5ee0ee6aac78     xclick  /m/0176mf           1  0.000000   \n",
       "116360  8fd920b73edf9caf     xclick  /m/0176mf           1  0.168750   \n",
       "131597  902ae1b75d636021     xclick  /m/0176mf           1  0.470000   \n",
       "246340  cb7650d72c9cbf46  activemil  /m/0176mf           1  0.470874   \n",
       "\n",
       "            XMax      YMin      YMax  IsOccluded  IsTruncated  IsGroupOf  \\\n",
       "84      0.887500  0.326130  0.757695           0            0          0   \n",
       "16540   0.999023  0.157122  0.867841           0            1          0   \n",
       "116360  0.546250  0.066250  0.528750           0            0          0   \n",
       "131597  0.651875  0.833959  0.918387           1            0          0   \n",
       "246340  0.756472  0.303750  0.440000           0            0          0   \n",
       "\n",
       "        IsDepiction  IsInside    Weight  \n",
       "84                0         0  0.917093  \n",
       "16540             0         0  0.917093  \n",
       "116360            0         0  0.917093  \n",
       "131597            0         0  0.917093  \n",
       "246340            0         0  0.917093  "
      ]
     },
     "execution_count": 24,
     "metadata": {},
     "output_type": "execute_result"
    }
   ],
   "source": [
    "df_l.head()"
   ]
  },
  {
   "cell_type": "code",
   "execution_count": 25,
   "metadata": {},
   "outputs": [
    {
     "data": {
      "text/plain": [
       "58052"
      ]
     },
     "execution_count": 25,
     "metadata": {},
     "output_type": "execute_result"
    }
   ],
   "source": [
    "len(df_l)"
   ]
  },
  {
   "cell_type": "code",
   "execution_count": 26,
   "metadata": {},
   "outputs": [],
   "source": [
    "df_m = df.join(mids, on='LabelName', how='inner')"
   ]
  },
  {
   "cell_type": "code",
   "execution_count": 27,
   "metadata": {},
   "outputs": [
    {
     "data": {
      "text/html": [
       "<div>\n",
       "<style scoped>\n",
       "    .dataframe tbody tr th:only-of-type {\n",
       "        vertical-align: middle;\n",
       "    }\n",
       "\n",
       "    .dataframe tbody tr th {\n",
       "        vertical-align: top;\n",
       "    }\n",
       "\n",
       "    .dataframe thead th {\n",
       "        text-align: right;\n",
       "    }\n",
       "</style>\n",
       "<table border=\"1\" class=\"dataframe\">\n",
       "  <thead>\n",
       "    <tr style=\"text-align: right;\">\n",
       "      <th></th>\n",
       "      <th>ImageID</th>\n",
       "      <th>Source</th>\n",
       "      <th>LabelName</th>\n",
       "      <th>Confidence</th>\n",
       "      <th>XMin</th>\n",
       "      <th>XMax</th>\n",
       "      <th>YMin</th>\n",
       "      <th>YMax</th>\n",
       "      <th>IsOccluded</th>\n",
       "      <th>IsTruncated</th>\n",
       "      <th>IsGroupOf</th>\n",
       "      <th>IsDepiction</th>\n",
       "      <th>IsInside</th>\n",
       "      <th>Weight</th>\n",
       "    </tr>\n",
       "  </thead>\n",
       "  <tbody>\n",
       "    <tr>\n",
       "      <th>54</th>\n",
       "      <td>8d6e3a506d4e5b9f</td>\n",
       "      <td>xclick</td>\n",
       "      <td>/m/01bjv</td>\n",
       "      <td>1</td>\n",
       "      <td>0.001875</td>\n",
       "      <td>0.999375</td>\n",
       "      <td>0.000000</td>\n",
       "      <td>0.834897</td>\n",
       "      <td>0</td>\n",
       "      <td>1</td>\n",
       "      <td>0</td>\n",
       "      <td>0</td>\n",
       "      <td>0</td>\n",
       "      <td>0.28747</td>\n",
       "    </tr>\n",
       "    <tr>\n",
       "      <th>914</th>\n",
       "      <td>8d722d0d752af04d</td>\n",
       "      <td>xclick</td>\n",
       "      <td>/m/01bjv</td>\n",
       "      <td>1</td>\n",
       "      <td>0.000000</td>\n",
       "      <td>0.434375</td>\n",
       "      <td>0.037428</td>\n",
       "      <td>0.989443</td>\n",
       "      <td>0</td>\n",
       "      <td>1</td>\n",
       "      <td>0</td>\n",
       "      <td>0</td>\n",
       "      <td>0</td>\n",
       "      <td>0.28747</td>\n",
       "    </tr>\n",
       "    <tr>\n",
       "      <th>915</th>\n",
       "      <td>8d722d0d752af04d</td>\n",
       "      <td>xclick</td>\n",
       "      <td>/m/01bjv</td>\n",
       "      <td>1</td>\n",
       "      <td>0.206875</td>\n",
       "      <td>0.769375</td>\n",
       "      <td>0.052783</td>\n",
       "      <td>0.946257</td>\n",
       "      <td>1</td>\n",
       "      <td>0</td>\n",
       "      <td>0</td>\n",
       "      <td>0</td>\n",
       "      <td>0</td>\n",
       "      <td>0.28747</td>\n",
       "    </tr>\n",
       "    <tr>\n",
       "      <th>916</th>\n",
       "      <td>8d722d0d752af04d</td>\n",
       "      <td>xclick</td>\n",
       "      <td>/m/01bjv</td>\n",
       "      <td>1</td>\n",
       "      <td>0.530625</td>\n",
       "      <td>0.978125</td>\n",
       "      <td>0.076775</td>\n",
       "      <td>0.897313</td>\n",
       "      <td>1</td>\n",
       "      <td>0</td>\n",
       "      <td>0</td>\n",
       "      <td>0</td>\n",
       "      <td>0</td>\n",
       "      <td>0.28747</td>\n",
       "    </tr>\n",
       "    <tr>\n",
       "      <th>5027</th>\n",
       "      <td>8d862619d8dd5db4</td>\n",
       "      <td>xclick</td>\n",
       "      <td>/m/01bjv</td>\n",
       "      <td>1</td>\n",
       "      <td>0.110625</td>\n",
       "      <td>0.966875</td>\n",
       "      <td>0.000000</td>\n",
       "      <td>0.999167</td>\n",
       "      <td>0</td>\n",
       "      <td>1</td>\n",
       "      <td>0</td>\n",
       "      <td>0</td>\n",
       "      <td>0</td>\n",
       "      <td>0.28747</td>\n",
       "    </tr>\n",
       "  </tbody>\n",
       "</table>\n",
       "</div>"
      ],
      "text/plain": [
       "               ImageID  Source LabelName  Confidence      XMin      XMax  \\\n",
       "54    8d6e3a506d4e5b9f  xclick  /m/01bjv           1  0.001875  0.999375   \n",
       "914   8d722d0d752af04d  xclick  /m/01bjv           1  0.000000  0.434375   \n",
       "915   8d722d0d752af04d  xclick  /m/01bjv           1  0.206875  0.769375   \n",
       "916   8d722d0d752af04d  xclick  /m/01bjv           1  0.530625  0.978125   \n",
       "5027  8d862619d8dd5db4  xclick  /m/01bjv           1  0.110625  0.966875   \n",
       "\n",
       "          YMin      YMax  IsOccluded  IsTruncated  IsGroupOf  IsDepiction  \\\n",
       "54    0.000000  0.834897           0            1          0            0   \n",
       "914   0.037428  0.989443           0            1          0            0   \n",
       "915   0.052783  0.946257           1            0          0            0   \n",
       "916   0.076775  0.897313           1            0          0            0   \n",
       "5027  0.000000  0.999167           0            1          0            0   \n",
       "\n",
       "      IsInside   Weight  \n",
       "54           0  0.28747  \n",
       "914          0  0.28747  \n",
       "915          0  0.28747  \n",
       "916          0  0.28747  \n",
       "5027         0  0.28747  "
      ]
     },
     "execution_count": 27,
     "metadata": {},
     "output_type": "execute_result"
    }
   ],
   "source": [
    "df_m.head()"
   ]
  },
  {
   "cell_type": "code",
   "execution_count": 28,
   "metadata": {},
   "outputs": [
    {
     "data": {
      "text/plain": [
       "949739"
      ]
     },
     "execution_count": 28,
     "metadata": {},
     "output_type": "execute_result"
    }
   ],
   "source": [
    "len(df_m)"
   ]
  },
  {
   "cell_type": "code",
   "execution_count": 29,
   "metadata": {},
   "outputs": [
    {
     "data": {
      "text/plain": [
       "426098"
      ]
     },
     "execution_count": 29,
     "metadata": {},
     "output_type": "execute_result"
    }
   ],
   "source": [
    "df_m.ImageID.nunique()"
   ]
  },
  {
   "cell_type": "code",
   "execution_count": 30,
   "metadata": {},
   "outputs": [
    {
     "data": {
      "text/plain": [
       "1469904"
      ]
     },
     "execution_count": 30,
     "metadata": {},
     "output_type": "execute_result"
    }
   ],
   "source": [
    "df_h.ImageID.nunique()"
   ]
  },
  {
   "cell_type": "code",
   "execution_count": 31,
   "metadata": {},
   "outputs": [
    {
     "data": {
      "text/plain": [
       "37881"
      ]
     },
     "execution_count": 31,
     "metadata": {},
     "output_type": "execute_result"
    }
   ],
   "source": [
    "df_l.ImageID.nunique()"
   ]
  },
  {
   "cell_type": "code",
   "execution_count": 32,
   "metadata": {},
   "outputs": [
    {
     "data": {
      "text/plain": [
       "1674979"
      ]
     },
     "execution_count": 32,
     "metadata": {},
     "output_type": "execute_result"
    }
   ],
   "source": [
    "df.ImageID.nunique()"
   ]
  },
  {
   "cell_type": "code",
   "execution_count": 33,
   "metadata": {},
   "outputs": [],
   "source": [
    "df_l.to_csv('train/boxes_low.csv', index=False)"
   ]
  },
  {
   "cell_type": "code",
   "execution_count": 34,
   "metadata": {},
   "outputs": [],
   "source": [
    "df_m.to_csv('train/boxes_mid.csv', index=False)"
   ]
  },
  {
   "cell_type": "code",
   "execution_count": 35,
   "metadata": {},
   "outputs": [],
   "source": [
    "df_h.to_csv('train/boxes_high.csv', index=False)"
   ]
  },
  {
   "cell_type": "code",
   "execution_count": 36,
   "metadata": {},
   "outputs": [],
   "source": [
    "highs.to_csv('train/weights_h.csv', index_label='LabelName', header=True)"
   ]
  },
  {
   "cell_type": "code",
   "execution_count": 37,
   "metadata": {},
   "outputs": [],
   "source": [
    "mids.to_csv('train/weights_m.csv', index_label='LabelName', header=True)\n",
    "lows.to_csv('train/weights_l.csv', index_label='LabelName', header=True)"
   ]
  },
  {
   "cell_type": "code",
   "execution_count": 38,
   "metadata": {},
   "outputs": [],
   "source": [
    "vd = pd.read_csv('validation/challenge-2019-validation-detection-bbox.csv')"
   ]
  },
  {
   "cell_type": "code",
   "execution_count": 39,
   "metadata": {},
   "outputs": [
    {
     "data": {
      "text/html": [
       "<div>\n",
       "<style scoped>\n",
       "    .dataframe tbody tr th:only-of-type {\n",
       "        vertical-align: middle;\n",
       "    }\n",
       "\n",
       "    .dataframe tbody tr th {\n",
       "        vertical-align: top;\n",
       "    }\n",
       "\n",
       "    .dataframe thead th {\n",
       "        text-align: right;\n",
       "    }\n",
       "</style>\n",
       "<table border=\"1\" class=\"dataframe\">\n",
       "  <thead>\n",
       "    <tr style=\"text-align: right;\">\n",
       "      <th></th>\n",
       "      <th>ImageID</th>\n",
       "      <th>LabelName</th>\n",
       "      <th>XMin</th>\n",
       "      <th>XMax</th>\n",
       "      <th>YMin</th>\n",
       "      <th>YMax</th>\n",
       "      <th>IsGroupOf</th>\n",
       "    </tr>\n",
       "  </thead>\n",
       "  <tbody>\n",
       "    <tr>\n",
       "      <th>0</th>\n",
       "      <td>0001eeaf4aed83f9</td>\n",
       "      <td>/m/0cmf2</td>\n",
       "      <td>0.022673</td>\n",
       "      <td>0.964200</td>\n",
       "      <td>0.071038</td>\n",
       "      <td>0.800546</td>\n",
       "      <td>0</td>\n",
       "    </tr>\n",
       "    <tr>\n",
       "      <th>1</th>\n",
       "      <td>000595fe6fee6369</td>\n",
       "      <td>/m/02xwb</td>\n",
       "      <td>0.141384</td>\n",
       "      <td>0.179676</td>\n",
       "      <td>0.676275</td>\n",
       "      <td>0.731707</td>\n",
       "      <td>0</td>\n",
       "    </tr>\n",
       "    <tr>\n",
       "      <th>2</th>\n",
       "      <td>000595fe6fee6369</td>\n",
       "      <td>/m/02xwb</td>\n",
       "      <td>0.213549</td>\n",
       "      <td>0.253314</td>\n",
       "      <td>0.299335</td>\n",
       "      <td>0.354767</td>\n",
       "      <td>0</td>\n",
       "    </tr>\n",
       "    <tr>\n",
       "      <th>3</th>\n",
       "      <td>000595fe6fee6369</td>\n",
       "      <td>/m/02xwb</td>\n",
       "      <td>0.232695</td>\n",
       "      <td>0.288660</td>\n",
       "      <td>0.490022</td>\n",
       "      <td>0.545455</td>\n",
       "      <td>0</td>\n",
       "    </tr>\n",
       "    <tr>\n",
       "      <th>4</th>\n",
       "      <td>000595fe6fee6369</td>\n",
       "      <td>/m/02xwb</td>\n",
       "      <td>0.245950</td>\n",
       "      <td>0.291605</td>\n",
       "      <td>0.547672</td>\n",
       "      <td>0.605322</td>\n",
       "      <td>0</td>\n",
       "    </tr>\n",
       "  </tbody>\n",
       "</table>\n",
       "</div>"
      ],
      "text/plain": [
       "            ImageID LabelName      XMin      XMax      YMin      YMax  \\\n",
       "0  0001eeaf4aed83f9  /m/0cmf2  0.022673  0.964200  0.071038  0.800546   \n",
       "1  000595fe6fee6369  /m/02xwb  0.141384  0.179676  0.676275  0.731707   \n",
       "2  000595fe6fee6369  /m/02xwb  0.213549  0.253314  0.299335  0.354767   \n",
       "3  000595fe6fee6369  /m/02xwb  0.232695  0.288660  0.490022  0.545455   \n",
       "4  000595fe6fee6369  /m/02xwb  0.245950  0.291605  0.547672  0.605322   \n",
       "\n",
       "   IsGroupOf  \n",
       "0          0  \n",
       "1          0  \n",
       "2          0  \n",
       "3          0  \n",
       "4          0  "
      ]
     },
     "execution_count": 39,
     "metadata": {},
     "output_type": "execute_result"
    }
   ],
   "source": [
    "vd.head()"
   ]
  },
  {
   "cell_type": "code",
   "execution_count": 40,
   "metadata": {},
   "outputs": [],
   "source": [
    "vd_h = vd.join(highs, on='LabelName', how='inner')"
   ]
  },
  {
   "cell_type": "code",
   "execution_count": 41,
   "metadata": {},
   "outputs": [
    {
     "data": {
      "text/html": [
       "<div>\n",
       "<style scoped>\n",
       "    .dataframe tbody tr th:only-of-type {\n",
       "        vertical-align: middle;\n",
       "    }\n",
       "\n",
       "    .dataframe tbody tr th {\n",
       "        vertical-align: top;\n",
       "    }\n",
       "\n",
       "    .dataframe thead th {\n",
       "        text-align: right;\n",
       "    }\n",
       "</style>\n",
       "<table border=\"1\" class=\"dataframe\">\n",
       "  <thead>\n",
       "    <tr style=\"text-align: right;\">\n",
       "      <th></th>\n",
       "      <th>ImageID</th>\n",
       "      <th>LabelName</th>\n",
       "      <th>XMin</th>\n",
       "      <th>XMax</th>\n",
       "      <th>YMin</th>\n",
       "      <th>YMax</th>\n",
       "      <th>IsGroupOf</th>\n",
       "      <th>Weight</th>\n",
       "    </tr>\n",
       "  </thead>\n",
       "  <tbody>\n",
       "    <tr>\n",
       "      <th>0</th>\n",
       "      <td>0001eeaf4aed83f9</td>\n",
       "      <td>/m/0cmf2</td>\n",
       "      <td>0.022673</td>\n",
       "      <td>0.964200</td>\n",
       "      <td>0.071038</td>\n",
       "      <td>0.800546</td>\n",
       "      <td>0</td>\n",
       "      <td>7.199972</td>\n",
       "    </tr>\n",
       "    <tr>\n",
       "      <th>52</th>\n",
       "      <td>0009bad4d8539bb4</td>\n",
       "      <td>/m/0cmf2</td>\n",
       "      <td>0.294551</td>\n",
       "      <td>0.705449</td>\n",
       "      <td>0.340708</td>\n",
       "      <td>0.515487</td>\n",
       "      <td>0</td>\n",
       "      <td>7.199972</td>\n",
       "    </tr>\n",
       "    <tr>\n",
       "      <th>152</th>\n",
       "      <td>0019e544c79847f5</td>\n",
       "      <td>/m/0cmf2</td>\n",
       "      <td>0.000000</td>\n",
       "      <td>0.349558</td>\n",
       "      <td>0.106195</td>\n",
       "      <td>0.396018</td>\n",
       "      <td>0</td>\n",
       "      <td>7.199972</td>\n",
       "    </tr>\n",
       "    <tr>\n",
       "      <th>153</th>\n",
       "      <td>0019e544c79847f5</td>\n",
       "      <td>/m/0cmf2</td>\n",
       "      <td>0.538348</td>\n",
       "      <td>0.874631</td>\n",
       "      <td>0.688053</td>\n",
       "      <td>0.909292</td>\n",
       "      <td>0</td>\n",
       "      <td>7.199972</td>\n",
       "    </tr>\n",
       "    <tr>\n",
       "      <th>414</th>\n",
       "      <td>007384da2ed0464f</td>\n",
       "      <td>/m/0cmf2</td>\n",
       "      <td>0.000000</td>\n",
       "      <td>1.000000</td>\n",
       "      <td>0.372917</td>\n",
       "      <td>0.768750</td>\n",
       "      <td>0</td>\n",
       "      <td>7.199972</td>\n",
       "    </tr>\n",
       "  </tbody>\n",
       "</table>\n",
       "</div>"
      ],
      "text/plain": [
       "              ImageID LabelName      XMin      XMax      YMin      YMax  \\\n",
       "0    0001eeaf4aed83f9  /m/0cmf2  0.022673  0.964200  0.071038  0.800546   \n",
       "52   0009bad4d8539bb4  /m/0cmf2  0.294551  0.705449  0.340708  0.515487   \n",
       "152  0019e544c79847f5  /m/0cmf2  0.000000  0.349558  0.106195  0.396018   \n",
       "153  0019e544c79847f5  /m/0cmf2  0.538348  0.874631  0.688053  0.909292   \n",
       "414  007384da2ed0464f  /m/0cmf2  0.000000  1.000000  0.372917  0.768750   \n",
       "\n",
       "     IsGroupOf    Weight  \n",
       "0            0  7.199972  \n",
       "52           0  7.199972  \n",
       "152          0  7.199972  \n",
       "153          0  7.199972  \n",
       "414          0  7.199972  "
      ]
     },
     "execution_count": 41,
     "metadata": {},
     "output_type": "execute_result"
    }
   ],
   "source": [
    "vd_h.head()"
   ]
  },
  {
   "cell_type": "code",
   "execution_count": 42,
   "metadata": {},
   "outputs": [],
   "source": [
    "vd_m = vd.join(mids, on='LabelName', how='inner')"
   ]
  },
  {
   "cell_type": "code",
   "execution_count": 43,
   "metadata": {},
   "outputs": [
    {
     "data": {
      "text/html": [
       "<div>\n",
       "<style scoped>\n",
       "    .dataframe tbody tr th:only-of-type {\n",
       "        vertical-align: middle;\n",
       "    }\n",
       "\n",
       "    .dataframe tbody tr th {\n",
       "        vertical-align: top;\n",
       "    }\n",
       "\n",
       "    .dataframe thead th {\n",
       "        text-align: right;\n",
       "    }\n",
       "</style>\n",
       "<table border=\"1\" class=\"dataframe\">\n",
       "  <thead>\n",
       "    <tr style=\"text-align: right;\">\n",
       "      <th></th>\n",
       "      <th>ImageID</th>\n",
       "      <th>LabelName</th>\n",
       "      <th>XMin</th>\n",
       "      <th>XMax</th>\n",
       "      <th>YMin</th>\n",
       "      <th>YMax</th>\n",
       "      <th>IsGroupOf</th>\n",
       "      <th>Weight</th>\n",
       "    </tr>\n",
       "  </thead>\n",
       "  <tbody>\n",
       "    <tr>\n",
       "      <th>43</th>\n",
       "      <td>0007cebe1b2ba653</td>\n",
       "      <td>/m/07mhn</td>\n",
       "      <td>0.735988</td>\n",
       "      <td>0.926254</td>\n",
       "      <td>0.022124</td>\n",
       "      <td>0.402655</td>\n",
       "      <td>0</td>\n",
       "      <td>0.404276</td>\n",
       "    </tr>\n",
       "    <tr>\n",
       "      <th>88</th>\n",
       "      <td>00141571d986d241</td>\n",
       "      <td>/m/07mhn</td>\n",
       "      <td>0.000000</td>\n",
       "      <td>0.039062</td>\n",
       "      <td>0.762500</td>\n",
       "      <td>0.997917</td>\n",
       "      <td>0</td>\n",
       "      <td>0.404276</td>\n",
       "    </tr>\n",
       "    <tr>\n",
       "      <th>89</th>\n",
       "      <td>00141571d986d241</td>\n",
       "      <td>/m/07mhn</td>\n",
       "      <td>0.154688</td>\n",
       "      <td>0.464062</td>\n",
       "      <td>0.458333</td>\n",
       "      <td>0.866667</td>\n",
       "      <td>0</td>\n",
       "      <td>0.404276</td>\n",
       "    </tr>\n",
       "    <tr>\n",
       "      <th>1207</th>\n",
       "      <td>014d85b26445629d</td>\n",
       "      <td>/m/07mhn</td>\n",
       "      <td>0.429204</td>\n",
       "      <td>0.604720</td>\n",
       "      <td>0.515487</td>\n",
       "      <td>0.993363</td>\n",
       "      <td>0</td>\n",
       "      <td>0.404276</td>\n",
       "    </tr>\n",
       "    <tr>\n",
       "      <th>1208</th>\n",
       "      <td>014d85b26445629d</td>\n",
       "      <td>/m/07mhn</td>\n",
       "      <td>0.603245</td>\n",
       "      <td>0.626844</td>\n",
       "      <td>0.659292</td>\n",
       "      <td>0.725664</td>\n",
       "      <td>0</td>\n",
       "      <td>0.404276</td>\n",
       "    </tr>\n",
       "  </tbody>\n",
       "</table>\n",
       "</div>"
      ],
      "text/plain": [
       "               ImageID LabelName      XMin      XMax      YMin      YMax  \\\n",
       "43    0007cebe1b2ba653  /m/07mhn  0.735988  0.926254  0.022124  0.402655   \n",
       "88    00141571d986d241  /m/07mhn  0.000000  0.039062  0.762500  0.997917   \n",
       "89    00141571d986d241  /m/07mhn  0.154688  0.464062  0.458333  0.866667   \n",
       "1207  014d85b26445629d  /m/07mhn  0.429204  0.604720  0.515487  0.993363   \n",
       "1208  014d85b26445629d  /m/07mhn  0.603245  0.626844  0.659292  0.725664   \n",
       "\n",
       "      IsGroupOf    Weight  \n",
       "43            0  0.404276  \n",
       "88            0  0.404276  \n",
       "89            0  0.404276  \n",
       "1207          0  0.404276  \n",
       "1208          0  0.404276  "
      ]
     },
     "execution_count": 43,
     "metadata": {},
     "output_type": "execute_result"
    }
   ],
   "source": [
    "vd_m.head()"
   ]
  },
  {
   "cell_type": "code",
   "execution_count": 44,
   "metadata": {},
   "outputs": [],
   "source": [
    "vd_l = vd.join(lows, on='LabelName', how='inner')"
   ]
  },
  {
   "cell_type": "code",
   "execution_count": 45,
   "metadata": {},
   "outputs": [
    {
     "data": {
      "text/html": [
       "<div>\n",
       "<style scoped>\n",
       "    .dataframe tbody tr th:only-of-type {\n",
       "        vertical-align: middle;\n",
       "    }\n",
       "\n",
       "    .dataframe tbody tr th {\n",
       "        vertical-align: top;\n",
       "    }\n",
       "\n",
       "    .dataframe thead th {\n",
       "        text-align: right;\n",
       "    }\n",
       "</style>\n",
       "<table border=\"1\" class=\"dataframe\">\n",
       "  <thead>\n",
       "    <tr style=\"text-align: right;\">\n",
       "      <th></th>\n",
       "      <th>ImageID</th>\n",
       "      <th>LabelName</th>\n",
       "      <th>XMin</th>\n",
       "      <th>XMax</th>\n",
       "      <th>YMin</th>\n",
       "      <th>YMax</th>\n",
       "      <th>IsGroupOf</th>\n",
       "      <th>Weight</th>\n",
       "    </tr>\n",
       "  </thead>\n",
       "  <tbody>\n",
       "    <tr>\n",
       "      <th>177</th>\n",
       "      <td>002b0dc60b1068a9</td>\n",
       "      <td>/m/01s55n</td>\n",
       "      <td>0.000000</td>\n",
       "      <td>1.000000</td>\n",
       "      <td>0.000000</td>\n",
       "      <td>1.000000</td>\n",
       "      <td>1</td>\n",
       "      <td>0.614307</td>\n",
       "    </tr>\n",
       "    <tr>\n",
       "      <th>6432</th>\n",
       "      <td>06e90333a82a8361</td>\n",
       "      <td>/m/01s55n</td>\n",
       "      <td>0.005900</td>\n",
       "      <td>0.902655</td>\n",
       "      <td>0.061947</td>\n",
       "      <td>0.995575</td>\n",
       "      <td>0</td>\n",
       "      <td>0.614307</td>\n",
       "    </tr>\n",
       "    <tr>\n",
       "      <th>10305</th>\n",
       "      <td>0b6edfb096fad378</td>\n",
       "      <td>/m/01s55n</td>\n",
       "      <td>0.000000</td>\n",
       "      <td>1.000000</td>\n",
       "      <td>0.109145</td>\n",
       "      <td>1.000000</td>\n",
       "      <td>1</td>\n",
       "      <td>0.614307</td>\n",
       "    </tr>\n",
       "    <tr>\n",
       "      <th>19117</th>\n",
       "      <td>159c27c3fcf6e267</td>\n",
       "      <td>/m/01s55n</td>\n",
       "      <td>0.256318</td>\n",
       "      <td>0.765343</td>\n",
       "      <td>0.009025</td>\n",
       "      <td>0.985560</td>\n",
       "      <td>0</td>\n",
       "      <td>0.614307</td>\n",
       "    </tr>\n",
       "    <tr>\n",
       "      <th>31119</th>\n",
       "      <td>23455e0b913929d9</td>\n",
       "      <td>/m/01s55n</td>\n",
       "      <td>0.192931</td>\n",
       "      <td>0.792342</td>\n",
       "      <td>0.321508</td>\n",
       "      <td>0.827051</td>\n",
       "      <td>0</td>\n",
       "      <td>0.614307</td>\n",
       "    </tr>\n",
       "  </tbody>\n",
       "</table>\n",
       "</div>"
      ],
      "text/plain": [
       "                ImageID  LabelName      XMin      XMax      YMin      YMax  \\\n",
       "177    002b0dc60b1068a9  /m/01s55n  0.000000  1.000000  0.000000  1.000000   \n",
       "6432   06e90333a82a8361  /m/01s55n  0.005900  0.902655  0.061947  0.995575   \n",
       "10305  0b6edfb096fad378  /m/01s55n  0.000000  1.000000  0.109145  1.000000   \n",
       "19117  159c27c3fcf6e267  /m/01s55n  0.256318  0.765343  0.009025  0.985560   \n",
       "31119  23455e0b913929d9  /m/01s55n  0.192931  0.792342  0.321508  0.827051   \n",
       "\n",
       "       IsGroupOf    Weight  \n",
       "177            1  0.614307  \n",
       "6432           0  0.614307  \n",
       "10305          1  0.614307  \n",
       "19117          0  0.614307  \n",
       "31119          0  0.614307  "
      ]
     },
     "execution_count": 45,
     "metadata": {},
     "output_type": "execute_result"
    }
   ],
   "source": [
    "vd_l.head()"
   ]
  },
  {
   "cell_type": "code",
   "execution_count": 46,
   "metadata": {},
   "outputs": [],
   "source": [
    "vd_h.to_csv('validation/valid_boxes_h.csv', index=False)"
   ]
  },
  {
   "cell_type": "code",
   "execution_count": 47,
   "metadata": {},
   "outputs": [],
   "source": [
    "vd_m.to_csv('validation/valid_boxes_m.csv', index=False)\n",
    "vd_l.to_csv('validation/valid_boxes_l.csv', index=False)"
   ]
  },
  {
   "cell_type": "code",
   "execution_count": null,
   "metadata": {},
   "outputs": [],
   "source": []
  }
 ],
 "metadata": {
  "kernelspec": {
   "display_name": "Python OId19",
   "language": "python",
   "name": "oid19"
  },
  "language_info": {
   "codemirror_mode": {
    "name": "ipython",
    "version": 3
   },
   "file_extension": ".py",
   "mimetype": "text/x-python",
   "name": "python",
   "nbconvert_exporter": "python",
   "pygments_lexer": "ipython3",
   "version": "3.7.3"
  }
 },
 "nbformat": 4,
 "nbformat_minor": 2
}
